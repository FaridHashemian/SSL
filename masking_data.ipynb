{
 "cells": [
  {
   "cell_type": "code",
   "execution_count": 2,
   "metadata": {},
   "outputs": [],
   "source": [
    "import argparse\n",
    "import os\n",
    "import sys\n",
    "import datetime\n",
    "import time\n",
    "import math\n",
    "import json\n",
    "from pathlib import Path\n",
    "\n",
    "import numpy as np\n",
    "from PIL import Image\n",
    "import torch\n",
    "import torch.nn as nn\n",
    "import torch.distributed as dist\n",
    "import torch.backends.cudnn as cudnn\n",
    "import torch.nn.functional as F\n",
    "# from torchvision import datasets, transforms\n",
    "#from torchvision import models as torchvision_models\n",
    "import mambular\n",
    "import dino.utils as utils\n",
    "from torch.utils.data import Dataset, DataLoader\n",
    "# import vision_transformer as vits\n",
    "from dino.vision_transformer import DINOHead"
   ]
  },
  {
   "cell_type": "code",
   "execution_count": 3,
   "metadata": {},
   "outputs": [],
   "source": [
    "mamba_archs = sorted(mambular.models.__all__)"
   ]
  },
  {
   "cell_type": "code",
   "execution_count": 4,
   "metadata": {},
   "outputs": [],
   "source": [
    "def get_args_parser():\n",
    "    parser = argparse.ArgumentParser('DINO', add_help=False)\n",
    "\n",
    "    # Model parameters\n",
    "    parser.add_argument('--arch', default='MLPRegressor', type=str,\n",
    "        choices=mamba_archs,\n",
    "        help=\"\"\"Name of architecture to train. For quick experiments with ViTs,\n",
    "        we recommend using vit_tiny or vit_small.\"\"\")\n",
    "    parser.add_argument('--patch_size', default=16, type=int, help=\"\"\"Size in pixels\n",
    "        of input square patches - default 16 (for 16x16 patches). Using smaller\n",
    "        values leads to better performance but requires more memory. Applies only\n",
    "        for ViTs (vit_tiny, vit_small and vit_base). If <16, we recommend disabling\n",
    "        mixed precision training (--use_fp16 false) to avoid unstabilities.\"\"\")\n",
    "    parser.add_argument('--out_dim', default=65536, type=int, help=\"\"\"Dimensionality of\n",
    "        the DINO head output. For complex and large datasets large values (like 65k) work well.\"\"\")\n",
    "    parser.add_argument('--norm_last_layer', default=True, type=utils.bool_flag,\n",
    "        help=\"\"\"Whether or not to weight normalize the last layer of the DINO head.\n",
    "        Not normalizing leads to better performance but can make the training unstable.\n",
    "        In our experiments, we typically set this paramater to False with vit_small and True with vit_base.\"\"\")\n",
    "    parser.add_argument('--momentum_teacher', default=0.996, type=float, help=\"\"\"Base EMA\n",
    "        parameter for teacher update. The value is increased to 1 during training with cosine schedule.\n",
    "        We recommend setting a higher value with small batches: for example use 0.9995 with batch size of 256.\"\"\")\n",
    "    parser.add_argument('--use_bn_in_head', default=False, type=utils.bool_flag,\n",
    "        help=\"Whether to use batch normalizations in projection head (Default: False)\")\n",
    "\n",
    "    # Temperature teacher parameters\n",
    "    parser.add_argument('--warmup_teacher_temp', default=0.04, type=float,\n",
    "        help=\"\"\"Initial value for the teacher temperature: 0.04 works well in most cases.\n",
    "        Try decreasing it if the training loss does not decrease.\"\"\")\n",
    "    parser.add_argument('--teacher_temp', default=0.04, type=float, help=\"\"\"Final value (after linear warmup)\n",
    "        of the teacher temperature. For most experiments, anything above 0.07 is unstable. We recommend\n",
    "        starting with the default value of 0.04 and increase this slightly if needed.\"\"\")\n",
    "    parser.add_argument('--warmup_teacher_temp_epochs', default=0, type=int,\n",
    "        help='Number of warmup epochs for the teacher temperature (Default: 30).')\n",
    "\n",
    "    # Training/Optimization parameters\n",
    "    parser.add_argument('--use_fp16', type=utils.bool_flag, default=True, help=\"\"\"Whether or not\n",
    "        to use half precision for training. Improves training time and memory requirements,\n",
    "        but can provoke instability and slight decay of performance. We recommend disabling\n",
    "        mixed precision if the loss is unstable, if reducing the patch size or if training with bigger ViTs.\"\"\")\n",
    "    parser.add_argument('--weight_decay', type=float, default=0.04, help=\"\"\"Initial value of the\n",
    "        weight decay. With ViT, a smaller value at the beginning of training works well.\"\"\")\n",
    "    parser.add_argument('--weight_decay_end', type=float, default=0.4, help=\"\"\"Final value of the\n",
    "        weight decay. We use a cosine schedule for WD and using a larger decay by\n",
    "        the end of training improves performance for ViTs.\"\"\")\n",
    "    parser.add_argument('--clip_grad', type=float, default=3.0, help=\"\"\"Maximal parameter\n",
    "        gradient norm if using gradient clipping. Clipping with norm .3 ~ 1.0 can\n",
    "        help optimization for larger ViT architectures. 0 for disabling.\"\"\")\n",
    "    parser.add_argument('--batch_size_per_gpu', default=64, type=int,\n",
    "        help='Per-GPU batch-size : number of distinct images loaded on one GPU.')\n",
    "    parser.add_argument('--epochs', default=100, type=int, help='Number of epochs of training.')\n",
    "    parser.add_argument('--freeze_last_layer', default=1, type=int, help=\"\"\"Number of epochs\n",
    "        during which we keep the output layer fixed. Typically doing so during\n",
    "        the first epoch helps training. Try increasing this value if the loss does not decrease.\"\"\")\n",
    "    parser.add_argument(\"--lr\", default=0.0005, type=float, help=\"\"\"Learning rate at the end of\n",
    "        linear warmup (highest LR used during training). The learning rate is linearly scaled\n",
    "        with the batch size, and specified here for a reference batch size of 256.\"\"\")\n",
    "    parser.add_argument(\"--warmup_epochs\", default=10, type=int,\n",
    "        help=\"Number of epochs for the linear learning-rate warm up.\")\n",
    "    parser.add_argument('--min_lr', type=float, default=1e-6, help=\"\"\"Target LR at the\n",
    "        end of optimization. We use a cosine LR schedule with linear warmup.\"\"\")\n",
    "    parser.add_argument('--optimizer', default='adamw', type=str,\n",
    "        choices=['adamw', 'sgd', 'lars'], help=\"\"\"Type of optimizer. We recommend using adamw with ViTs.\"\"\")\n",
    "    parser.add_argument('--drop_path_rate', type=float, default=0.1, help=\"stochastic depth rate\")\n",
    "\n",
    "    # Multi-crop parameters\n",
    "    parser.add_argument('--global_crops_scale', type=float, nargs='+', default=(0.4, 1.),\n",
    "        help=\"\"\"Scale range of the cropped image before resizing, relatively to the origin image.\n",
    "        Used for large global view cropping. When disabling multi-crop (--local_crops_number 0), we\n",
    "        recommand using a wider range of scale (\"--global_crops_scale 0.14 1.\" for example)\"\"\")\n",
    "    parser.add_argument('--local_crops_number', type=int, default=8, help=\"\"\"Number of small\n",
    "        local views to generate. Set this parameter to 0 to disable multi-crop training.\n",
    "        When disabling multi-crop we recommend to use \"--global_crops_scale 0.14 1.\" \"\"\")\n",
    "    parser.add_argument('--local_crops_scale', type=float, nargs='+', default=(0.05, 0.4),\n",
    "        help=\"\"\"Scale range of the cropped image before resizing, relatively to the origin image.\n",
    "        Used for small local view cropping of multi-crop.\"\"\")\n",
    "\n",
    "    # Misc\n",
    "    parser.add_argument('--data_path', default='/path/to/imagenet/train/', type=str,\n",
    "        help='Please specify path to the ImageNet training data.')\n",
    "    parser.add_argument('--output_dir', default=\".\", type=str, help='Path to save logs and checkpoints.')\n",
    "    parser.add_argument('--saveckp_freq', default=20, type=int, help='Save checkpoint every x epochs.')\n",
    "    parser.add_argument('--seed', default=0, type=int, help='Random seed.')\n",
    "    parser.add_argument('--num_workers', default=10, type=int, help='Number of data loading workers per GPU.')\n",
    "    parser.add_argument(\"--dist_url\", default=\"env://\", type=str, help=\"\"\"url used to set up\n",
    "        distributed training; see https://pytorch.org/docs/stable/distributed.html\"\"\")\n",
    "    parser.add_argument(\"--local_rank\", default=0, type=int, help=\"Please ignore and do not set this argument.\")\n",
    "    return parser"
   ]
  },
  {
   "cell_type": "code",
   "execution_count": 5,
   "metadata": {},
   "outputs": [],
   "source": [
    "class DataAugmentationPV(object):\n",
    "    def __init__(self, masking_percent_student, masking_percent_teacher, data_size):\n",
    "        # flip_and_color_jitter = transforms.Compose([\n",
    "        #     transforms.RandomHorizontalFlip(p=0.5),\n",
    "        #     transforms.RandomApply(\n",
    "        #         [transforms.ColorJitter(brightness=0.4, contrast=0.4, saturation=0.2, hue=0.1)],\n",
    "        #         p=0.8\n",
    "        #     ),\n",
    "        #     transforms.RandomGrayscale(p=0.2),\n",
    "        # ])\n",
    "        # normalize = transforms.Compose([\n",
    "        #     transforms.ToTensor(),\n",
    "        #     transforms.Normalize((0.485, 0.456, 0.406), (0.229, 0.224, 0.225)),\n",
    "        # ])\n",
    "\n",
    "        # # first global crop\n",
    "        # self.global_transfo1 = transforms.Compose([\n",
    "        #     transforms.RandomResizedCrop(224, scale=global_crops_scale, interpolation=Image.BICUBIC),\n",
    "        #     flip_and_color_jitter,\n",
    "        #     utils.GaussianBlur(1.0),\n",
    "        #     normalize,\n",
    "        # ])\n",
    "        # # second global crop\n",
    "        # self.global_transfo2 = transforms.Compose([\n",
    "        #     transforms.RandomResizedCrop(224, scale=global_crops_scale, interpolation=Image.BICUBIC),\n",
    "        #     flip_and_color_jitter,\n",
    "        #     utils.GaussianBlur(0.1),\n",
    "        #     utils.Solarization(0.2),\n",
    "        #     normalize,\n",
    "        # ])\n",
    "        # # transformation for the local small crops\n",
    "        # self.local_crops_number = local_crops_number\n",
    "        # self.local_transfo = transforms.Compose([\n",
    "        #     transforms.RandomResizedCrop(96, scale=local_crops_scale, interpolation=Image.BICUBIC),\n",
    "        #     flip_and_color_jitter,\n",
    "        #     utils.GaussianBlur(p=0.5),\n",
    "        #     normalize,\n",
    "        # ])\n",
    "        self.student_masking = torch.rand(data_size) < masking_percent_student\n",
    "        #self.student_data = data * mask\n",
    "        self.teacher_masking = torch.rand(data_size) < masking_percent_teacher\n",
    "\n",
    "    def __call__(self, data):\n",
    "        crops = []\n",
    "        crops.append(self.student_masking * data)\n",
    "        crops.append(self.teacher_masking * data)\n",
    "        # for _ in range(self.local_crops_number):\n",
    "        #     crops.append(self.local_transfo(image))\n",
    "        return crops"
   ]
  },
  {
   "cell_type": "code",
   "execution_count": 6,
   "metadata": {},
   "outputs": [],
   "source": [
    "import pandas as pd\n",
    "from sklearn.model_selection import train_test_split \n",
    "df = pd.read_csv('clean_data.csv')\n",
    "x = df.iloc[:, :-1]\n",
    "y = df.iloc[:, -1]\n",
    "x_train_r, x_test, y_train_r, y_test = train_test_split(x, y, train_size=0.9, shuffle=False)\n",
    "x_train, x_val, y_train, y_val = train_test_split(x_train_r, y_train_r, train_size=5/6, shuffle=False)"
   ]
  },
  {
   "cell_type": "code",
   "execution_count": 7,
   "metadata": {},
   "outputs": [],
   "source": [
    "from sklearn.preprocessing import StandardScaler\n",
    "sc = StandardScaler().fit(x_train)\n",
    "x_train = sc.transform(x_train)\n",
    "x_val = sc.transform(x_val)\n",
    "x_test = sc.transform(x_test)"
   ]
  },
  {
   "cell_type": "code",
   "execution_count": null,
   "metadata": {},
   "outputs": [],
   "source": [
    "class TabularDataset(Dataset):\n",
    "    def __init__(self, data, target_col, mask_studetn, mask_teacher):\n",
    "        self.data = data.drop(target_col, axis=1)\n",
    "        self.mask = DataAugmentationPV()\n",
    "        self.target = data[target_col]\n",
    "        self.transforms = transforms\n",
    "\n",
    "    def __len__(self):\n",
    "        return len(self.data)\n",
    "\n",
    "    def __getitem__(self, idx):\n",
    "        x = self.data.iloc[idx].values.astype('float32')\n",
    "        y = self.target.iloc[idx]\n",
    "\n",
    "        if self.transforms:\n",
    "            x = self.transforms(x)\n",
    "\n",
    "        return torch.tensor(x), torch.tensor(y)"
   ]
  },
  {
   "cell_type": "code",
   "execution_count": 37,
   "metadata": {},
   "outputs": [],
   "source": [
    "transform = DataAugmentationPV(\n",
    "        0.3, 1, df.shape\n",
    "    )"
   ]
  },
  {
   "cell_type": "code",
   "execution_count": 66,
   "metadata": {},
   "outputs": [
    {
     "data": {
      "text/plain": [
       "tensor([[True, True, True,  ..., True, True, True],\n",
       "        [True, True, True,  ..., True, True, True],\n",
       "        [True, True, True,  ..., True, True, True],\n",
       "        ...,\n",
       "        [True, True, True,  ..., True, True, True],\n",
       "        [True, True, True,  ..., True, True, True],\n",
       "        [True, True, True,  ..., True, True, True]])"
      ]
     },
     "execution_count": 66,
     "metadata": {},
     "output_type": "execute_result"
    }
   ],
   "source": [
    "transform.teacher_masking"
   ]
  },
  {
   "cell_type": "code",
   "execution_count": 13,
   "metadata": {},
   "outputs": [],
   "source": [
    "## teacher and student networks\n",
    "def st_te_nets():\n",
    "    student = mambular.models.MLPRegressor()\n",
    "    teacher = mambular.models.MLPRegressor()\n",
    "    embed_dim = 64\n",
    "\n",
    "    # multi-crop wrapper handles forward with inputs of different resolutions\n",
    "    student = utils.MultiCropWrapper(student, DINOHead(\n",
    "        embed_dim,\n",
    "        65536,\n",
    "        use_bn=False,\n",
    "        norm_last_layer=True,\n",
    "    ))\n",
    "    teacher = utils.MultiCropWrapper(\n",
    "        teacher,\n",
    "        DINOHead(embed_dim, 65536, False),\n",
    "    )\n",
    "    # move networks to gpu\n",
    "    student, teacher = student.cuda(), teacher.cuda()\n",
    "    return student, teacher"
   ]
  },
  {
   "cell_type": "code",
   "execution_count": 14,
   "metadata": {},
   "outputs": [
    {
     "name": "stderr",
     "output_type": "stream",
     "text": [
      "/home/m16r2/anaconda3/envs/farid/lib/python3.10/site-packages/torch/nn/utils/weight_norm.py:143: FutureWarning: `torch.nn.utils.weight_norm` is deprecated in favor of `torch.nn.utils.parametrizations.weight_norm`.\n",
      "  WeightNorm.apply(module, name, dim)\n"
     ]
    }
   ],
   "source": [
    "s, t = st_te_nets()"
   ]
  }
 ],
 "metadata": {
  "kernelspec": {
   "display_name": "farid",
   "language": "python",
   "name": "python3"
  },
  "language_info": {
   "codemirror_mode": {
    "name": "ipython",
    "version": 3
   },
   "file_extension": ".py",
   "mimetype": "text/x-python",
   "name": "python",
   "nbconvert_exporter": "python",
   "pygments_lexer": "ipython3",
   "version": "3.10.16"
  }
 },
 "nbformat": 4,
 "nbformat_minor": 2
}
