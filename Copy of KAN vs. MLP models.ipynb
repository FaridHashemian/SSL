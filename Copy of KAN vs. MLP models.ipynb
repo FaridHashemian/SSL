{
 "cells": [
  {
   "cell_type": "code",
   "execution_count": 49,
   "metadata": {
    "colab": {
     "base_uri": "https://localhost:8080/"
    },
    "executionInfo": {
     "elapsed": 155,
     "status": "ok",
     "timestamp": 1729090493201,
     "user": {
      "displayName": "Farid Hashemian",
      "userId": "07696851809876459273"
     },
     "user_tz": 300
    },
    "id": "Zz-NHfNVyDeH",
    "outputId": "4727f3e6-8050-461c-df53-ae258112b1ad"
   },
   "outputs": [
    {
     "name": "stdout",
     "output_type": "stream",
     "text": [
      "[Errno 2] No such file or directory: 'drive/MyDrive/PV_Panel_Installation/efficient-kan/src/'\n",
      "/content/drive/MyDrive/PV_Panel_Installation\n"
     ]
    }
   ],
   "source": [
    "%cd drive/MyDrive/PV_Panel_Installation/efficient-kan/src/"
   ]
  },
  {
   "cell_type": "code",
   "execution_count": null,
   "metadata": {
    "id": "xGBzNzABNDS0"
   },
   "outputs": [],
   "source": [
    "#!git clone https://github.com/Blealtan/efficient-kan/src/efficient_kan.git"
   ]
  },
  {
   "cell_type": "code",
   "execution_count": null,
   "metadata": {
    "colab": {
     "base_uri": "https://localhost:8080/"
    },
    "executionInfo": {
     "elapsed": 6247,
     "status": "ok",
     "timestamp": 1718987984636,
     "user": {
      "displayName": "Farid Hashemian",
      "userId": "07696851809876459273"
     },
     "user_tz": 300
    },
    "id": "Rz2beS9Pckma",
    "outputId": "ea695f76-4e82-457d-a674-9b129b818cb8"
   },
   "outputs": [
    {
     "name": "stdout",
     "output_type": "stream",
     "text": [
      "Collecting torchinfo\n",
      "  Downloading torchinfo-1.8.0-py3-none-any.whl (23 kB)\n",
      "Installing collected packages: torchinfo\n",
      "Successfully installed torchinfo-1.8.0\n"
     ]
    }
   ],
   "source": [
    "#!pip install torchinfo"
   ]
  },
  {
   "cell_type": "code",
   "execution_count": 2,
   "metadata": {
    "executionInfo": {
     "elapsed": 110,
     "status": "ok",
     "timestamp": 1729090832659,
     "user": {
      "displayName": "Farid Hashemian",
      "userId": "07696851809876459273"
     },
     "user_tz": 300
    },
    "id": "ttx2vHa6NORP"
   },
   "outputs": [],
   "source": [
    "#from efficient_kan import KAN\n",
    "\n",
    "# Train on MNIST\n",
    "import torch\n",
    "from tqdm import tqdm\n",
    "import pandas as pd\n",
    "import torch\n",
    "from torch import optim\n",
    "from torch.utils.data import DataLoader\n",
    "from torch.optim import Adam\n",
    "from torch.nn import MSELoss\n",
    "from torch import nn\n",
    "from sklearn.preprocessing import StandardScaler, MinMaxScaler\n",
    "import matplotlib.pyplot as plt\n",
    "import time\n",
    "from sklearn.model_selection import train_test_split\n",
    "import numpy as np\n",
    "from sklearn.preprocessing import PolynomialFeatures\n",
    "from sklearn.metrics import r2_score\n",
    "from sklearn.metrics import mean_squared_error"
   ]
  },
  {
   "cell_type": "code",
   "execution_count": 72,
   "metadata": {
    "colab": {
     "base_uri": "https://localhost:8080/"
    },
    "executionInfo": {
     "elapsed": 113,
     "status": "ok",
     "timestamp": 1729090833968,
     "user": {
      "displayName": "Farid Hashemian",
      "userId": "07696851809876459273"
     },
     "user_tz": 300
    },
    "id": "EEHUQlnwDCSz",
    "outputId": "73e33057-dffa-44f4-99f8-7a1778b3d145"
   },
   "outputs": [
    {
     "name": "stdout",
     "output_type": "stream",
     "text": [
      "[Errno 2] No such file or directory: 'MyDrive/PV_Panel_Installation/'\n",
      "/content/drive/MyDrive/PV_Panel_Installation\n"
     ]
    }
   ],
   "source": [
    "%cd ../../"
   ]
  },
  {
   "cell_type": "markdown",
   "metadata": {
    "id": "YMR94uajajEA"
   },
   "source": [
    "# Data Preprocessing"
   ]
  },
  {
   "cell_type": "code",
   "execution_count": 3,
   "metadata": {
    "executionInfo": {
     "elapsed": 1594,
     "status": "ok",
     "timestamp": 1729090845163,
     "user": {
      "displayName": "Farid Hashemian",
      "userId": "07696851809876459273"
     },
     "user_tz": 300
    },
    "id": "agGcMLEBx70O"
   },
   "outputs": [],
   "source": [
    "df = pd.read_csv('DeepSolar.csv')"
   ]
  },
  {
   "cell_type": "code",
   "execution_count": 4,
   "metadata": {
    "executionInfo": {
     "elapsed": 1,
     "status": "ok",
     "timestamp": 1729090845300,
     "user": {
      "displayName": "Farid Hashemian",
      "userId": "07696851809876459273"
     },
     "user_tz": 300
    },
    "id": "jojchHxQyZbI"
   },
   "outputs": [],
   "source": [
    "selected_columns = [\n",
    "'net_metering',\n",
    "'feedin_tariff',\n",
    "'rebate',\n",
    "'property_tax',\n",
    "'sales_tax',\n",
    "'cooperate_tax',\n",
    "'avg_electricity_retail_rate',\n",
    "'average_household_size',\n",
    "'housing_unit_median_gross_rent',\n",
    "'housing_unit_median_value',\n",
    "'average_household_income',\n",
    "'number_of_years_of_education',\n",
    "'gini_index',\n",
    "'population_density',\n",
    "'poverty_family_below_poverty_level_rate',\n",
    "'employ_rate',\n",
    "'race_asian_rate',\n",
    "'race_black_africa_rate',\n",
    "'race_white_rate',\n",
    "'race_indian_alaska_rate',\n",
    "'race_islander_rate',\n",
    "'race_two_more_rate',\n",
    "'diversity',\n",
    "'heating_fuel_coal_coke_rate',\n",
    "'heating_fuel_electricity_rate',\n",
    "'heating_fuel_solar_rate',\n",
    "'heating_fuel_fuel_oil_kerosene_rate',\n",
    "'heating_fuel_gas_rate',\n",
    "'heating_fuel_none_rate',\n",
    "'education_less_than_high_school_rate',\n",
    "'education_high_school_graduate_rate',\n",
    "'education_college_rate',\n",
    "'education_bachelor_rate',\n",
    "'education_master_rate',\n",
    "'education_professional_school_rate',\n",
    "'education_doctoral_rate',\n",
    "'age_median',\n",
    "'age_5_9_rate',\n",
    "'age_10_14_rate',\n",
    "'age_15_17_rate',\n",
    "'age_18_24_rate',\n",
    "'age_25_34_rate',\n",
    "'age_35_44_rate',\n",
    "'age_45_54_rate',\n",
    "'age_55_64_rate',\n",
    "'age_65_74_rate',\n",
    "'age_75_84_rate',\n",
    "'age_more_than_85_rate',\n",
    "'household_type_family_rate',\n",
    "'dropout_16_19_inschool_rate',\n",
    "'occupation_construction_rate',\n",
    "'occupation_public_rate',\n",
    "'occupation_information_rate',\n",
    "'occupation_finance_rate',\n",
    "'occupation_education_rate',\n",
    "'occupation_administrative_rate',\n",
    "'occupation_manufacturing_rate',\n",
    "'occupation_wholesale_rate',\n",
    "'occupation_retail_rate',\n",
    "'occupation_transportation_rate',\n",
    "'occupation_arts_rate',\n",
    "'occupation_agriculture_rate',\n",
    "'occupancy_vacant_rate',\n",
    "'occupancy_owner_rate',\n",
    "'mortgage_with_rate',\n",
    "'transportation_home_rate',\n",
    "'transportation_car_alone_rate',\n",
    "'transportation_walk_rate',\n",
    "'transportation_carpool_rate',\n",
    "'transportation_motorcycle_rate',\n",
    "'transportation_bicycle_rate',\n",
    "'transportation_public_rate',\n",
    "'travel_time_less_than_10_rate',\n",
    "'travel_time_10_19_rate',\n",
    "'travel_time_20_29_rate',\n",
    "'travel_time_30_39_rate',\n",
    "'travel_time_40_59_rate',\n",
    "'travel_time_60_89_rate',\n",
    "'health_insurance_public_rate',\n",
    "'health_insurance_none_rate',\n",
    "'travel_time_average',\n",
    "'voting_2016_dem_percentage',\n",
    "'voting_2016_gop_percentage',\n",
    "'air_temperature',\n",
    "'relative_humidity',\n",
    "'daily_solar_radiation',\n",
    "'atmospheric_pressure',\n",
    "'wind_speed',\n",
    "'earth_temperature',\n",
    "'elevation',\n",
    "'earth_temperature_amplitude',\n",
    "'frost_days',\n",
    "'heating_degree_days',\n",
    "'cooling_degree_days',\n",
    "'solar_system_count'\n",
    "]"
   ]
  },
  {
   "cell_type": "code",
   "execution_count": 7,
   "metadata": {},
   "outputs": [],
   "source": [
    "df_model = df[selected_columns].dropna()\n",
    "#df_model = df_model.iloc[:, selected_index]\n",
    "df_model_installed = df_model[df_model['solar_system_count'] > 0]\n",
    "df_model=df_model_installed.sample(frac = 1, random_state=1234).reset_index(drop=True)"
   ]
  },
  {
   "cell_type": "code",
   "execution_count": 8,
   "metadata": {},
   "outputs": [],
   "source": [
    "df_model.to_csv('clean_data.csv')"
   ]
  },
  {
   "cell_type": "code",
   "execution_count": 5,
   "metadata": {
    "id": "kjJTshHRKFr-"
   },
   "outputs": [],
   "source": [
    "# selected_index = [85,\n",
    "#  10,\n",
    "#  48,\n",
    "#  13,\n",
    "#  63,\n",
    "#  25,\n",
    "#  91,\n",
    "#  64,\n",
    "#  45,\n",
    "#  37,\n",
    "#  81,\n",
    "#  82,\n",
    "#  51,\n",
    "#  38,\n",
    "#  27,\n",
    "#  9,\n",
    "#  8,\n",
    "#  65,\n",
    "#  79,\n",
    "#  84,\n",
    "#  94]"
   ]
  },
  {
   "cell_type": "code",
   "execution_count": 6,
   "metadata": {
    "colab": {
     "base_uri": "https://localhost:8080/"
    },
    "executionInfo": {
     "elapsed": 152,
     "status": "ok",
     "timestamp": 1729089873148,
     "user": {
      "displayName": "Farid Hashemian",
      "userId": "07696851809876459273"
     },
     "user_tz": 300
    },
    "id": "P-kB36RfygyN",
    "outputId": "ac984921-09d5-4ed5-dd1f-1133daea0831"
   },
   "outputs": [
    {
     "data": {
      "text/plain": [
       "95"
      ]
     },
     "execution_count": 6,
     "metadata": {},
     "output_type": "execute_result"
    }
   ],
   "source": [
    "len(selected_columns)"
   ]
  },
  {
   "cell_type": "code",
   "execution_count": 53,
   "metadata": {
    "colab": {
     "base_uri": "https://localhost:8080/"
    },
    "executionInfo": {
     "elapsed": 266,
     "status": "ok",
     "timestamp": 1729090540513,
     "user": {
      "displayName": "Farid Hashemian",
      "userId": "07696851809876459273"
     },
     "user_tz": 300
    },
    "id": "vdNZuF6IxLl5",
    "outputId": "a49dd39b-8255-4a77-c2f9-816abffb63e4"
   },
   "outputs": [
    {
     "name": "stderr",
     "output_type": "stream",
     "text": [
      "<ipython-input-53-0f8b10cbd773>:4: SettingWithCopyWarning: \n",
      "A value is trying to be set on a copy of a slice from a DataFrame\n",
      "\n",
      "See the caveats in the documentation: https://pandas.pydata.org/pandas-docs/stable/user_guide/indexing.html#returning-a-view-versus-a-copy\n",
      "  df_model.fillna(df_model.mean(), inplace=True)\n"
     ]
    }
   ],
   "source": [
    "# prompt: fill missing data with mean\n",
    "df_model = df[selected_columns]\n",
    "# Assuming your DataFrame is named 'df' and you want to fill missing values with the mean for all columns.\n",
    "df_model.fillna(df_model.mean(), inplace=True)"
   ]
  },
  {
   "cell_type": "code",
   "execution_count": 76,
   "metadata": {
    "executionInfo": {
     "elapsed": 123,
     "status": "ok",
     "timestamp": 1729090859437,
     "user": {
      "displayName": "Farid Hashemian",
      "userId": "07696851809876459273"
     },
     "user_tz": 300
    },
    "id": "FhTxy-dt2Kca"
   },
   "outputs": [],
   "source": [
    "df_model = df[selected_columns]"
   ]
  },
  {
   "cell_type": "code",
   "execution_count": 77,
   "metadata": {
    "executionInfo": {
     "elapsed": 479410,
     "status": "ok",
     "timestamp": 1729091342062,
     "user": {
      "displayName": "Farid Hashemian",
      "userId": "07696851809876459273"
     },
     "user_tz": 300
    },
    "id": "XjES9kFn1-7P"
   },
   "outputs": [],
   "source": [
    "# prompt: fill na with KNN\n",
    "\n",
    "from sklearn.impute import KNNImputer\n",
    "\n",
    "# Create a KNNImputer object\n",
    "imputer = KNNImputer(n_neighbors=5)  # You can adjust the number of neighbors\n",
    "\n",
    "# Fit and transform the data to fill missing values using KNN\n",
    "df_model_filled = pd.DataFrame(imputer.fit_transform(df_model), columns=df_model.columns)\n",
    "\n",
    "# Now df_model_filled contains the DataFrame with missing values filled using KNN"
   ]
  },
  {
   "cell_type": "code",
   "execution_count": 78,
   "metadata": {
    "executionInfo": {
     "elapsed": 197,
     "status": "ok",
     "timestamp": 1729092684527,
     "user": {
      "displayName": "Farid Hashemian",
      "userId": "07696851809876459273"
     },
     "user_tz": 300
    },
    "id": "-q8rGg7cxbxf"
   },
   "outputs": [],
   "source": [
    "df_model=df_model_filled.sample(frac = 1, random_state=1234).reset_index(drop=True)"
   ]
  },
  {
   "cell_type": "code",
   "execution_count": 33,
   "metadata": {
    "executionInfo": {
     "elapsed": 111,
     "status": "ok",
     "timestamp": 1729090191360,
     "user": {
      "displayName": "Farid Hashemian",
      "userId": "07696851809876459273"
     },
     "user_tz": 300
    },
    "id": "x4-vqZF2yi9o"
   },
   "outputs": [],
   "source": [
    "df_model = df[selected_columns].dropna()\n",
    "#df_model = df_model.iloc[:, selected_index]\n",
    "df_model_installed = df_model[df_model['solar_system_count'] > 0]"
   ]
  },
  {
   "cell_type": "code",
   "execution_count": 10,
   "metadata": {
    "colab": {
     "base_uri": "https://localhost:8080/"
    },
    "executionInfo": {
     "elapsed": 121,
     "status": "ok",
     "timestamp": 1729089889017,
     "user": {
      "displayName": "Farid Hashemian",
      "userId": "07696851809876459273"
     },
     "user_tz": 300
    },
    "id": "cjKDw6MJyqPl",
    "outputId": "907cb68b-0ffe-4880-fe85-e984b0cdf621"
   },
   "outputs": [
    {
     "data": {
      "text/plain": [
       "72537"
      ]
     },
     "execution_count": 10,
     "metadata": {},
     "output_type": "execute_result"
    }
   ],
   "source": [
    "len(df_model)"
   ]
  },
  {
   "cell_type": "code",
   "execution_count": 34,
   "metadata": {
    "executionInfo": {
     "elapsed": 122,
     "status": "ok",
     "timestamp": 1729090193979,
     "user": {
      "displayName": "Farid Hashemian",
      "userId": "07696851809876459273"
     },
     "user_tz": 300
    },
    "id": "CrbN3ag2zlF6"
   },
   "outputs": [],
   "source": [
    "df_model=df_model_installed.sample(frac = 1, random_state=1234).reset_index(drop=True)"
   ]
  },
  {
   "cell_type": "code",
   "execution_count": 79,
   "metadata": {
    "executionInfo": {
     "elapsed": 150,
     "status": "ok",
     "timestamp": 1729092687620,
     "user": {
      "displayName": "Farid Hashemian",
      "userId": "07696851809876459273"
     },
     "user_tz": 300
    },
    "id": "Sg5aM6LfQ5j8"
   },
   "outputs": [],
   "source": [
    "x = df_model.iloc[:, :-1]\n",
    "y = df_model.iloc[:, -1]\n",
    "x_train_r, x_test, y_train_r, y_test = train_test_split(x, y, train_size=0.9, shuffle=False)\n",
    "x_train, x_val, y_train, y_val = train_test_split(x_train_r, y_train_r, train_size=5/6, shuffle=False)\n",
    "Y_mean = y_train.mean()\n",
    "Y_std = y_train.std()\n",
    "y_train = (y_train-Y_mean)/Y_std\n",
    "y_val = (y_val-Y_mean)/Y_std\n",
    "y_test = (y_test-Y_mean)/Y_std\n",
    "preprocessing = StandardScaler().fit(\n",
    "    x_train\n",
    ")\n",
    "\n",
    "# x_train = preprocessing.transform(x_train)\n",
    "# x_val = preprocessing.transform(x_val)\n",
    "# x_test = preprocessing.transform(x_test)\n",
    "#x_train_new = np.append(x_train, x_val, axis=0)\n",
    "#y_train_new = np.append(y_train, y_val)"
   ]
  },
  {
   "cell_type": "code",
   "execution_count": 80,
   "metadata": {
    "colab": {
     "base_uri": "https://localhost:8080/",
     "height": 350
    },
    "executionInfo": {
     "elapsed": 378,
     "status": "ok",
     "timestamp": 1729092690610,
     "user": {
      "displayName": "Farid Hashemian",
      "userId": "07696851809876459273"
     },
     "user_tz": 300
    },
    "id": "9RNgk0f4td9K",
    "outputId": "2608cf36-7309-4258-a814-7b11cd553c39"
   },
   "outputs": [
    {
     "data": {
      "application/vnd.google.colaboratory.intrinsic+json": {
       "type": "dataframe"
      },
      "text/html": [
       "\n",
       "  <div id=\"df-1b9e6389-1e52-4b2d-94bf-4f1c5f998cf8\" class=\"colab-df-container\">\n",
       "    <div>\n",
       "<style scoped>\n",
       "    .dataframe tbody tr th:only-of-type {\n",
       "        vertical-align: middle;\n",
       "    }\n",
       "\n",
       "    .dataframe tbody tr th {\n",
       "        vertical-align: top;\n",
       "    }\n",
       "\n",
       "    .dataframe thead th {\n",
       "        text-align: right;\n",
       "    }\n",
       "</style>\n",
       "<table border=\"1\" class=\"dataframe\">\n",
       "  <thead>\n",
       "    <tr style=\"text-align: right;\">\n",
       "      <th></th>\n",
       "      <th>net_metering</th>\n",
       "      <th>feedin_tariff</th>\n",
       "      <th>rebate</th>\n",
       "      <th>property_tax</th>\n",
       "      <th>sales_tax</th>\n",
       "      <th>cooperate_tax</th>\n",
       "      <th>avg_electricity_retail_rate</th>\n",
       "      <th>average_household_size</th>\n",
       "      <th>housing_unit_median_gross_rent</th>\n",
       "      <th>housing_unit_median_value</th>\n",
       "      <th>...</th>\n",
       "      <th>relative_humidity</th>\n",
       "      <th>daily_solar_radiation</th>\n",
       "      <th>atmospheric_pressure</th>\n",
       "      <th>wind_speed</th>\n",
       "      <th>earth_temperature</th>\n",
       "      <th>elevation</th>\n",
       "      <th>earth_temperature_amplitude</th>\n",
       "      <th>frost_days</th>\n",
       "      <th>heating_degree_days</th>\n",
       "      <th>cooling_degree_days</th>\n",
       "    </tr>\n",
       "  </thead>\n",
       "  <tbody>\n",
       "    <tr>\n",
       "      <th>count</th>\n",
       "      <td>54402.000000</td>\n",
       "      <td>54402.000000</td>\n",
       "      <td>54402.000000</td>\n",
       "      <td>54402.000000</td>\n",
       "      <td>54402.000000</td>\n",
       "      <td>54402.000000</td>\n",
       "      <td>54402.000000</td>\n",
       "      <td>54402.000000</td>\n",
       "      <td>54402.000000</td>\n",
       "      <td>5.440200e+04</td>\n",
       "      <td>...</td>\n",
       "      <td>54402.000000</td>\n",
       "      <td>54402.000000</td>\n",
       "      <td>54402.000000</td>\n",
       "      <td>54402.000000</td>\n",
       "      <td>54402.000000</td>\n",
       "      <td>54402.000000</td>\n",
       "      <td>54402.000000</td>\n",
       "      <td>54402.000000</td>\n",
       "      <td>54402.000000</td>\n",
       "      <td>54402.000000</td>\n",
       "    </tr>\n",
       "    <tr>\n",
       "      <th>mean</th>\n",
       "      <td>14.088931</td>\n",
       "      <td>1.237326</td>\n",
       "      <td>2.040771</td>\n",
       "      <td>17.709294</td>\n",
       "      <td>5.685453</td>\n",
       "      <td>0.424672</td>\n",
       "      <td>10.766564</td>\n",
       "      <td>2.654122</td>\n",
       "      <td>1009.565806</td>\n",
       "      <td>2.235012e+05</td>\n",
       "      <td>...</td>\n",
       "      <td>0.645822</td>\n",
       "      <td>4.246280</td>\n",
       "      <td>97.845892</td>\n",
       "      <td>4.144729</td>\n",
       "      <td>13.969593</td>\n",
       "      <td>336.659237</td>\n",
       "      <td>18.007998</td>\n",
       "      <td>65.800004</td>\n",
       "      <td>2367.231330</td>\n",
       "      <td>2328.653627</td>\n",
       "    </tr>\n",
       "    <tr>\n",
       "      <th>std</th>\n",
       "      <td>8.654146</td>\n",
       "      <td>3.166712</td>\n",
       "      <td>3.945069</td>\n",
       "      <td>16.308680</td>\n",
       "      <td>9.749069</td>\n",
       "      <td>2.311244</td>\n",
       "      <td>2.560427</td>\n",
       "      <td>0.504632</td>\n",
       "      <td>432.354805</td>\n",
       "      <td>1.939155e+05</td>\n",
       "      <td>...</td>\n",
       "      <td>0.091532</td>\n",
       "      <td>0.541758</td>\n",
       "      <td>4.507028</td>\n",
       "      <td>0.606165</td>\n",
       "      <td>4.855342</td>\n",
       "      <td>411.045434</td>\n",
       "      <td>4.367004</td>\n",
       "      <td>48.976650</td>\n",
       "      <td>1212.060003</td>\n",
       "      <td>938.443883</td>\n",
       "    </tr>\n",
       "    <tr>\n",
       "      <th>min</th>\n",
       "      <td>0.000000</td>\n",
       "      <td>0.000000</td>\n",
       "      <td>0.000000</td>\n",
       "      <td>0.000000</td>\n",
       "      <td>0.000000</td>\n",
       "      <td>0.000000</td>\n",
       "      <td>7.250000</td>\n",
       "      <td>1.090000</td>\n",
       "      <td>111.000000</td>\n",
       "      <td>9.999000e+03</td>\n",
       "      <td>...</td>\n",
       "      <td>0.328000</td>\n",
       "      <td>3.300000</td>\n",
       "      <td>73.800000</td>\n",
       "      <td>2.800000</td>\n",
       "      <td>2.200000</td>\n",
       "      <td>1.000000</td>\n",
       "      <td>1.670000</td>\n",
       "      <td>0.000000</td>\n",
       "      <td>9.000000</td>\n",
       "      <td>436.000000</td>\n",
       "    </tr>\n",
       "    <tr>\n",
       "      <th>25%</th>\n",
       "      <td>9.000000</td>\n",
       "      <td>0.000000</td>\n",
       "      <td>0.000000</td>\n",
       "      <td>0.000000</td>\n",
       "      <td>0.000000</td>\n",
       "      <td>0.000000</td>\n",
       "      <td>8.970000</td>\n",
       "      <td>2.340000</td>\n",
       "      <td>707.000000</td>\n",
       "      <td>1.045000e+05</td>\n",
       "      <td>...</td>\n",
       "      <td>0.645000</td>\n",
       "      <td>3.790000</td>\n",
       "      <td>97.500000</td>\n",
       "      <td>3.700000</td>\n",
       "      <td>10.100000</td>\n",
       "      <td>124.000000</td>\n",
       "      <td>15.590000</td>\n",
       "      <td>17.000000</td>\n",
       "      <td>1304.000000</td>\n",
       "      <td>1657.350000</td>\n",
       "    </tr>\n",
       "    <tr>\n",
       "      <th>50%</th>\n",
       "      <td>14.000000</td>\n",
       "      <td>0.000000</td>\n",
       "      <td>0.000000</td>\n",
       "      <td>11.000000</td>\n",
       "      <td>0.000000</td>\n",
       "      <td>0.000000</td>\n",
       "      <td>9.660000</td>\n",
       "      <td>2.590000</td>\n",
       "      <td>899.000000</td>\n",
       "      <td>1.627000e+05</td>\n",
       "      <td>...</td>\n",
       "      <td>0.674000</td>\n",
       "      <td>4.110000</td>\n",
       "      <td>98.900000</td>\n",
       "      <td>4.200000</td>\n",
       "      <td>13.000000</td>\n",
       "      <td>231.000000</td>\n",
       "      <td>18.910000</td>\n",
       "      <td>67.000000</td>\n",
       "      <td>2527.000000</td>\n",
       "      <td>2131.000000</td>\n",
       "    </tr>\n",
       "    <tr>\n",
       "      <th>75%</th>\n",
       "      <td>20.000000</td>\n",
       "      <td>0.000000</td>\n",
       "      <td>0.000000</td>\n",
       "      <td>38.000000</td>\n",
       "      <td>10.000000</td>\n",
       "      <td>0.000000</td>\n",
       "      <td>12.390000</td>\n",
       "      <td>2.890000</td>\n",
       "      <td>1197.000000</td>\n",
       "      <td>2.748000e+05</td>\n",
       "      <td>...</td>\n",
       "      <td>0.695400</td>\n",
       "      <td>4.570000</td>\n",
       "      <td>100.200000</td>\n",
       "      <td>4.600000</td>\n",
       "      <td>17.800000</td>\n",
       "      <td>357.000000</td>\n",
       "      <td>21.100000</td>\n",
       "      <td>104.000000</td>\n",
       "      <td>3310.000000</td>\n",
       "      <td>2856.000000</td>\n",
       "    </tr>\n",
       "    <tr>\n",
       "      <th>max</th>\n",
       "      <td>35.000000</td>\n",
       "      <td>11.000000</td>\n",
       "      <td>14.000000</td>\n",
       "      <td>42.000000</td>\n",
       "      <td>40.000000</td>\n",
       "      <td>16.000000</td>\n",
       "      <td>16.650000</td>\n",
       "      <td>11.000000</td>\n",
       "      <td>3501.000000</td>\n",
       "      <td>2.000001e+06</td>\n",
       "      <td>...</td>\n",
       "      <td>0.802000</td>\n",
       "      <td>5.680000</td>\n",
       "      <td>101.800000</td>\n",
       "      <td>6.600000</td>\n",
       "      <td>26.600000</td>\n",
       "      <td>2676.000000</td>\n",
       "      <td>28.040000</td>\n",
       "      <td>207.000000</td>\n",
       "      <td>5818.000000</td>\n",
       "      <td>5407.000000</td>\n",
       "    </tr>\n",
       "  </tbody>\n",
       "</table>\n",
       "<p>8 rows × 94 columns</p>\n",
       "</div>\n",
       "    <div class=\"colab-df-buttons\">\n",
       "\n",
       "  <div class=\"colab-df-container\">\n",
       "    <button class=\"colab-df-convert\" onclick=\"convertToInteractive('df-1b9e6389-1e52-4b2d-94bf-4f1c5f998cf8')\"\n",
       "            title=\"Convert this dataframe to an interactive table.\"\n",
       "            style=\"display:none;\">\n",
       "\n",
       "  <svg xmlns=\"http://www.w3.org/2000/svg\" height=\"24px\" viewBox=\"0 -960 960 960\">\n",
       "    <path d=\"M120-120v-720h720v720H120Zm60-500h600v-160H180v160Zm220 220h160v-160H400v160Zm0 220h160v-160H400v160ZM180-400h160v-160H180v160Zm440 0h160v-160H620v160ZM180-180h160v-160H180v160Zm440 0h160v-160H620v160Z\"/>\n",
       "  </svg>\n",
       "    </button>\n",
       "\n",
       "  <style>\n",
       "    .colab-df-container {\n",
       "      display:flex;\n",
       "      gap: 12px;\n",
       "    }\n",
       "\n",
       "    .colab-df-convert {\n",
       "      background-color: #E8F0FE;\n",
       "      border: none;\n",
       "      border-radius: 50%;\n",
       "      cursor: pointer;\n",
       "      display: none;\n",
       "      fill: #1967D2;\n",
       "      height: 32px;\n",
       "      padding: 0 0 0 0;\n",
       "      width: 32px;\n",
       "    }\n",
       "\n",
       "    .colab-df-convert:hover {\n",
       "      background-color: #E2EBFA;\n",
       "      box-shadow: 0px 1px 2px rgba(60, 64, 67, 0.3), 0px 1px 3px 1px rgba(60, 64, 67, 0.15);\n",
       "      fill: #174EA6;\n",
       "    }\n",
       "\n",
       "    .colab-df-buttons div {\n",
       "      margin-bottom: 4px;\n",
       "    }\n",
       "\n",
       "    [theme=dark] .colab-df-convert {\n",
       "      background-color: #3B4455;\n",
       "      fill: #D2E3FC;\n",
       "    }\n",
       "\n",
       "    [theme=dark] .colab-df-convert:hover {\n",
       "      background-color: #434B5C;\n",
       "      box-shadow: 0px 1px 3px 1px rgba(0, 0, 0, 0.15);\n",
       "      filter: drop-shadow(0px 1px 2px rgba(0, 0, 0, 0.3));\n",
       "      fill: #FFFFFF;\n",
       "    }\n",
       "  </style>\n",
       "\n",
       "    <script>\n",
       "      const buttonEl =\n",
       "        document.querySelector('#df-1b9e6389-1e52-4b2d-94bf-4f1c5f998cf8 button.colab-df-convert');\n",
       "      buttonEl.style.display =\n",
       "        google.colab.kernel.accessAllowed ? 'block' : 'none';\n",
       "\n",
       "      async function convertToInteractive(key) {\n",
       "        const element = document.querySelector('#df-1b9e6389-1e52-4b2d-94bf-4f1c5f998cf8');\n",
       "        const dataTable =\n",
       "          await google.colab.kernel.invokeFunction('convertToInteractive',\n",
       "                                                    [key], {});\n",
       "        if (!dataTable) return;\n",
       "\n",
       "        const docLinkHtml = 'Like what you see? Visit the ' +\n",
       "          '<a target=\"_blank\" href=https://colab.research.google.com/notebooks/data_table.ipynb>data table notebook</a>'\n",
       "          + ' to learn more about interactive tables.';\n",
       "        element.innerHTML = '';\n",
       "        dataTable['output_type'] = 'display_data';\n",
       "        await google.colab.output.renderOutput(dataTable, element);\n",
       "        const docLink = document.createElement('div');\n",
       "        docLink.innerHTML = docLinkHtml;\n",
       "        element.appendChild(docLink);\n",
       "      }\n",
       "    </script>\n",
       "  </div>\n",
       "\n",
       "\n",
       "<div id=\"df-ac65e2e7-b4fd-49e9-b7f4-de41dc02e167\">\n",
       "  <button class=\"colab-df-quickchart\" onclick=\"quickchart('df-ac65e2e7-b4fd-49e9-b7f4-de41dc02e167')\"\n",
       "            title=\"Suggest charts\"\n",
       "            style=\"display:none;\">\n",
       "\n",
       "<svg xmlns=\"http://www.w3.org/2000/svg\" height=\"24px\"viewBox=\"0 0 24 24\"\n",
       "     width=\"24px\">\n",
       "    <g>\n",
       "        <path d=\"M19 3H5c-1.1 0-2 .9-2 2v14c0 1.1.9 2 2 2h14c1.1 0 2-.9 2-2V5c0-1.1-.9-2-2-2zM9 17H7v-7h2v7zm4 0h-2V7h2v10zm4 0h-2v-4h2v4z\"/>\n",
       "    </g>\n",
       "</svg>\n",
       "  </button>\n",
       "\n",
       "<style>\n",
       "  .colab-df-quickchart {\n",
       "      --bg-color: #E8F0FE;\n",
       "      --fill-color: #1967D2;\n",
       "      --hover-bg-color: #E2EBFA;\n",
       "      --hover-fill-color: #174EA6;\n",
       "      --disabled-fill-color: #AAA;\n",
       "      --disabled-bg-color: #DDD;\n",
       "  }\n",
       "\n",
       "  [theme=dark] .colab-df-quickchart {\n",
       "      --bg-color: #3B4455;\n",
       "      --fill-color: #D2E3FC;\n",
       "      --hover-bg-color: #434B5C;\n",
       "      --hover-fill-color: #FFFFFF;\n",
       "      --disabled-bg-color: #3B4455;\n",
       "      --disabled-fill-color: #666;\n",
       "  }\n",
       "\n",
       "  .colab-df-quickchart {\n",
       "    background-color: var(--bg-color);\n",
       "    border: none;\n",
       "    border-radius: 50%;\n",
       "    cursor: pointer;\n",
       "    display: none;\n",
       "    fill: var(--fill-color);\n",
       "    height: 32px;\n",
       "    padding: 0;\n",
       "    width: 32px;\n",
       "  }\n",
       "\n",
       "  .colab-df-quickchart:hover {\n",
       "    background-color: var(--hover-bg-color);\n",
       "    box-shadow: 0 1px 2px rgba(60, 64, 67, 0.3), 0 1px 3px 1px rgba(60, 64, 67, 0.15);\n",
       "    fill: var(--button-hover-fill-color);\n",
       "  }\n",
       "\n",
       "  .colab-df-quickchart-complete:disabled,\n",
       "  .colab-df-quickchart-complete:disabled:hover {\n",
       "    background-color: var(--disabled-bg-color);\n",
       "    fill: var(--disabled-fill-color);\n",
       "    box-shadow: none;\n",
       "  }\n",
       "\n",
       "  .colab-df-spinner {\n",
       "    border: 2px solid var(--fill-color);\n",
       "    border-color: transparent;\n",
       "    border-bottom-color: var(--fill-color);\n",
       "    animation:\n",
       "      spin 1s steps(1) infinite;\n",
       "  }\n",
       "\n",
       "  @keyframes spin {\n",
       "    0% {\n",
       "      border-color: transparent;\n",
       "      border-bottom-color: var(--fill-color);\n",
       "      border-left-color: var(--fill-color);\n",
       "    }\n",
       "    20% {\n",
       "      border-color: transparent;\n",
       "      border-left-color: var(--fill-color);\n",
       "      border-top-color: var(--fill-color);\n",
       "    }\n",
       "    30% {\n",
       "      border-color: transparent;\n",
       "      border-left-color: var(--fill-color);\n",
       "      border-top-color: var(--fill-color);\n",
       "      border-right-color: var(--fill-color);\n",
       "    }\n",
       "    40% {\n",
       "      border-color: transparent;\n",
       "      border-right-color: var(--fill-color);\n",
       "      border-top-color: var(--fill-color);\n",
       "    }\n",
       "    60% {\n",
       "      border-color: transparent;\n",
       "      border-right-color: var(--fill-color);\n",
       "    }\n",
       "    80% {\n",
       "      border-color: transparent;\n",
       "      border-right-color: var(--fill-color);\n",
       "      border-bottom-color: var(--fill-color);\n",
       "    }\n",
       "    90% {\n",
       "      border-color: transparent;\n",
       "      border-bottom-color: var(--fill-color);\n",
       "    }\n",
       "  }\n",
       "</style>\n",
       "\n",
       "  <script>\n",
       "    async function quickchart(key) {\n",
       "      const quickchartButtonEl =\n",
       "        document.querySelector('#' + key + ' button');\n",
       "      quickchartButtonEl.disabled = true;  // To prevent multiple clicks.\n",
       "      quickchartButtonEl.classList.add('colab-df-spinner');\n",
       "      try {\n",
       "        const charts = await google.colab.kernel.invokeFunction(\n",
       "            'suggestCharts', [key], {});\n",
       "      } catch (error) {\n",
       "        console.error('Error during call to suggestCharts:', error);\n",
       "      }\n",
       "      quickchartButtonEl.classList.remove('colab-df-spinner');\n",
       "      quickchartButtonEl.classList.add('colab-df-quickchart-complete');\n",
       "    }\n",
       "    (() => {\n",
       "      let quickchartButtonEl =\n",
       "        document.querySelector('#df-ac65e2e7-b4fd-49e9-b7f4-de41dc02e167 button');\n",
       "      quickchartButtonEl.style.display =\n",
       "        google.colab.kernel.accessAllowed ? 'block' : 'none';\n",
       "    })();\n",
       "  </script>\n",
       "</div>\n",
       "\n",
       "    </div>\n",
       "  </div>\n"
      ],
      "text/plain": [
       "       net_metering  feedin_tariff        rebate  property_tax     sales_tax  \\\n",
       "count  54402.000000   54402.000000  54402.000000  54402.000000  54402.000000   \n",
       "mean      14.088931       1.237326      2.040771     17.709294      5.685453   \n",
       "std        8.654146       3.166712      3.945069     16.308680      9.749069   \n",
       "min        0.000000       0.000000      0.000000      0.000000      0.000000   \n",
       "25%        9.000000       0.000000      0.000000      0.000000      0.000000   \n",
       "50%       14.000000       0.000000      0.000000     11.000000      0.000000   \n",
       "75%       20.000000       0.000000      0.000000     38.000000     10.000000   \n",
       "max       35.000000      11.000000     14.000000     42.000000     40.000000   \n",
       "\n",
       "       cooperate_tax  avg_electricity_retail_rate  average_household_size  \\\n",
       "count   54402.000000                 54402.000000            54402.000000   \n",
       "mean        0.424672                    10.766564                2.654122   \n",
       "std         2.311244                     2.560427                0.504632   \n",
       "min         0.000000                     7.250000                1.090000   \n",
       "25%         0.000000                     8.970000                2.340000   \n",
       "50%         0.000000                     9.660000                2.590000   \n",
       "75%         0.000000                    12.390000                2.890000   \n",
       "max        16.000000                    16.650000               11.000000   \n",
       "\n",
       "       housing_unit_median_gross_rent  housing_unit_median_value  ...  \\\n",
       "count                    54402.000000               5.440200e+04  ...   \n",
       "mean                      1009.565806               2.235012e+05  ...   \n",
       "std                        432.354805               1.939155e+05  ...   \n",
       "min                        111.000000               9.999000e+03  ...   \n",
       "25%                        707.000000               1.045000e+05  ...   \n",
       "50%                        899.000000               1.627000e+05  ...   \n",
       "75%                       1197.000000               2.748000e+05  ...   \n",
       "max                       3501.000000               2.000001e+06  ...   \n",
       "\n",
       "       relative_humidity  daily_solar_radiation  atmospheric_pressure  \\\n",
       "count       54402.000000           54402.000000          54402.000000   \n",
       "mean            0.645822               4.246280             97.845892   \n",
       "std             0.091532               0.541758              4.507028   \n",
       "min             0.328000               3.300000             73.800000   \n",
       "25%             0.645000               3.790000             97.500000   \n",
       "50%             0.674000               4.110000             98.900000   \n",
       "75%             0.695400               4.570000            100.200000   \n",
       "max             0.802000               5.680000            101.800000   \n",
       "\n",
       "         wind_speed  earth_temperature     elevation  \\\n",
       "count  54402.000000       54402.000000  54402.000000   \n",
       "mean       4.144729          13.969593    336.659237   \n",
       "std        0.606165           4.855342    411.045434   \n",
       "min        2.800000           2.200000      1.000000   \n",
       "25%        3.700000          10.100000    124.000000   \n",
       "50%        4.200000          13.000000    231.000000   \n",
       "75%        4.600000          17.800000    357.000000   \n",
       "max        6.600000          26.600000   2676.000000   \n",
       "\n",
       "       earth_temperature_amplitude    frost_days  heating_degree_days  \\\n",
       "count                 54402.000000  54402.000000         54402.000000   \n",
       "mean                     18.007998     65.800004          2367.231330   \n",
       "std                       4.367004     48.976650          1212.060003   \n",
       "min                       1.670000      0.000000             9.000000   \n",
       "25%                      15.590000     17.000000          1304.000000   \n",
       "50%                      18.910000     67.000000          2527.000000   \n",
       "75%                      21.100000    104.000000          3310.000000   \n",
       "max                      28.040000    207.000000          5818.000000   \n",
       "\n",
       "       cooling_degree_days  \n",
       "count         54402.000000  \n",
       "mean           2328.653627  \n",
       "std             938.443883  \n",
       "min             436.000000  \n",
       "25%            1657.350000  \n",
       "50%            2131.000000  \n",
       "75%            2856.000000  \n",
       "max            5407.000000  \n",
       "\n",
       "[8 rows x 94 columns]"
      ]
     },
     "execution_count": 80,
     "metadata": {},
     "output_type": "execute_result"
    }
   ],
   "source": [
    "pd.DataFrame(x_train).describe()"
   ]
  },
  {
   "cell_type": "code",
   "execution_count": null,
   "metadata": {
    "id": "ljL_WC8zUMae"
   },
   "outputs": [],
   "source": [
    "# pf = PolynomialFeatures(degree = 2)\n",
    "# x_train_pf = pf.fit_transform(x_train)\n",
    "# x_val_pf = pf.fit_transform(x_val)\n",
    "# x_test_pf = pf.fit_transform(x_test)"
   ]
  },
  {
   "cell_type": "code",
   "execution_count": 56,
   "metadata": {
    "colab": {
     "base_uri": "https://localhost:8080/"
    },
    "executionInfo": {
     "elapsed": 130,
     "status": "ok",
     "timestamp": 1729090550499,
     "user": {
      "displayName": "Farid Hashemian",
      "userId": "07696851809876459273"
     },
     "user_tz": 300
    },
    "id": "COFDhOMEQ5h-",
    "outputId": "ccb2a5fb-06f1-49d7-f848-cad820bf9ff2"
   },
   "outputs": [
    {
     "name": "stdout",
     "output_type": "stream",
     "text": [
      "54402 10881 7254\n"
     ]
    }
   ],
   "source": [
    "print(len(x_train), len(x_val), len(x_test))"
   ]
  },
  {
   "cell_type": "code",
   "execution_count": 81,
   "metadata": {
    "executionInfo": {
     "elapsed": 221,
     "status": "ok",
     "timestamp": 1729092692983,
     "user": {
      "displayName": "Farid Hashemian",
      "userId": "07696851809876459273"
     },
     "user_tz": 300
    },
    "id": "J0BPH_shQ5fo"
   },
   "outputs": [],
   "source": [
    "train_dataset = torch.utils.data.TensorDataset(torch.as_tensor(x_train.values, dtype=torch.float32),torch.as_tensor(y_train.values, dtype=torch.float32))\n",
    "val_dataset = torch.utils.data.TensorDataset(torch.as_tensor(x_val.values, dtype=torch.float32),torch.as_tensor(y_val.values, dtype=torch.float32))\n",
    "test_dataset = torch.utils.data.TensorDataset(torch.as_tensor(x_test.values, dtype=torch.float32),torch.as_tensor(y_test.values, dtype=torch.float32))\n",
    "\n",
    "train_loader = torch.utils.data.DataLoader(train_dataset, batch_size=128, shuffle=True)\n",
    "val_loader = torch.utils.data.DataLoader(val_dataset, batch_size=128, shuffle=True)\n",
    "test_loader = torch.utils.data.DataLoader(test_dataset, batch_size=128, shuffle=True)"
   ]
  },
  {
   "cell_type": "code",
   "execution_count": null,
   "metadata": {
    "id": "Smw4DT8xUhAC"
   },
   "outputs": [],
   "source": [
    "#train_dataset = torch.utils.data.TensorDataset(torch.as_tensor(\n",
    "#                     df_model_installed.iloc[:int(0.75*len(df_model_installed)),:].iloc[:, :-1].values, dtype=torch.float32),\n",
    "#                     torch.as_tensor(df_model_installed.iloc[:int(0.75*len(df_model_installed)),:].iloc[:, -1].values, dtype=torch.float32))\n",
    "#val_dataset = torch.utils.data.TensorDataset(torch.as_tensor(\n",
    "#                     df_model_installed.iloc[int(0.75*len(df_model_installed)):int(0.9*len(df_model_installed)),:].iloc[:, :-1].values, dtype=torch.float32),\n",
    "#                     torch.as_tensor(df_model_installed.iloc[int(0.75*len(df_model_installed)):int(0.9*len(df_model_installed)),:].iloc[:, -1].values, dtype=torch.float32))\n",
    "#test_dataset = torch.utils.data.TensorDataset(torch.as_tensor(\n",
    "#                     df_model_installed.iloc[int(0.9*len(df_model_installed)):,:].iloc[:, :-1].values, dtype=torch.float32),\n",
    "#                     torch.as_tensor(df_model_installed.iloc[int(0.9*len(df_model_installed)):,:].iloc[:, -1].values, dtype=torch.float32))\n",
    "\n",
    "# preprocessing = StandardScaler().fit(\n",
    "#     train_dataset.tensors[0]\n",
    "# )\n",
    "\n",
    "# Y_mean = train_dataset.tensors[1].mean().item()\n",
    "# Y_std = train_dataset.tensors[1].std().item()\n",
    "\n",
    "# import torch\n",
    "# from sklearn.preprocessing import StandardScaler\n",
    "\n",
    "# # Assuming 'preprocessing' is your fitted StandardScaler\n",
    "# for i in range(len(train_dataset.tensors[0])):\n",
    "#     # Convert the tensor to a NumPy array, transform, and convert back to a tensor\n",
    "#     transformed_data = preprocessing.transform(train_dataset.tensors[0][i].numpy().reshape(1, -1))\n",
    "#     train_dataset.tensors[0][i] = torch.tensor(transformed_data, dtype=torch.float32).squeeze()  # Squeeze to remove extra dimension\n",
    "\n",
    "# # Repeat the process for val_dataset and test_dataset\n",
    "# for i in range(len(val_dataset.tensors[0])):\n",
    "#     transformed_data = preprocessing.transform(val_dataset.tensors[0][i].numpy().reshape(1, -1))\n",
    "#     val_dataset.tensors[0][i] = torch.tensor(transformed_data, dtype=torch.float32).squeeze()\n",
    "\n",
    "# for i in range(len(test_dataset.tensors[0])):\n",
    "#     transformed_data = preprocessing.transform(test_dataset.tensors[0][i].numpy().reshape(1, -1))\n",
    "#     test_dataset.tensors[0][i] = torch.tensor(transformed_data, dtype=torch.float32).squeeze()\n",
    "\n",
    "# for i in range(len(train_dataset.tensors[1])):\n",
    "#   train_dataset.tensors[1][i]= (train_dataset.tensors[1][i] - Y_mean) / Y_std\n",
    "\n",
    "# for i in range(len(val_dataset.tensors[1])):\n",
    "#   val_dataset.tensors[1][i]= (val_dataset.tensors[1][i] - Y_mean) / Y_std\n",
    "\n",
    "# for i in range(len(test_dataset.tensors[1])):\n",
    "#   test_dataset.tensors[1][i]= (test_dataset.tensors[1][i] - Y_mean) / Y_std\n",
    "\n",
    "# train_loader = torch.utils.data.DataLoader(train_dataset, batch_size=128, shuffle=True)\n",
    "\n",
    "# val_loader = torch.utils.data.DataLoader(val_dataset, batch_size=128, shuffle=True)\n",
    "\n",
    "# test_loader = torch.utils.data.DataLoader(test_dataset, batch_size=128, shuffle=True)"
   ]
  },
  {
   "cell_type": "code",
   "execution_count": 82,
   "metadata": {
    "colab": {
     "base_uri": "https://localhost:8080/"
    },
    "executionInfo": {
     "elapsed": 112,
     "status": "ok",
     "timestamp": 1729092695694,
     "user": {
      "displayName": "Farid Hashemian",
      "userId": "07696851809876459273"
     },
     "user_tz": 300
    },
    "id": "t6Qm8JEUro3O",
    "outputId": "31c218e5-5a0f-44b4-e16b-796fc4670238"
   },
   "outputs": [
    {
     "name": "stdout",
     "output_type": "stream",
     "text": [
      "54402\n",
      "10881\n",
      "7254\n"
     ]
    }
   ],
   "source": [
    "print(len(train_dataset))\n",
    "print(len(val_dataset))\n",
    "print(len(test_dataset))"
   ]
  },
  {
   "cell_type": "code",
   "execution_count": 14,
   "metadata": {
    "colab": {
     "base_uri": "https://localhost:8080/"
    },
    "executionInfo": {
     "elapsed": 129,
     "status": "ok",
     "timestamp": 1729089908151,
     "user": {
      "displayName": "Farid Hashemian",
      "userId": "07696851809876459273"
     },
     "user_tz": 300
    },
    "id": "wSvZpAcEraYF",
    "outputId": "768cd214-9891-4512-86e6-f6757c2665c5"
   },
   "outputs": [
    {
     "data": {
      "text/plain": [
       "torch.Size([7254, 94])"
      ]
     },
     "execution_count": 14,
     "metadata": {},
     "output_type": "execute_result"
    }
   ],
   "source": [
    "test_dataset.tensors[0].shape"
   ]
  },
  {
   "cell_type": "markdown",
   "metadata": {
    "id": "nSqUDTSvOB7g"
   },
   "source": [
    "# KAN"
   ]
  },
  {
   "cell_type": "markdown",
   "metadata": {
    "id": "c-dC_2QYaVoU"
   },
   "source": [
    "### Model and Training"
   ]
  },
  {
   "cell_type": "code",
   "execution_count": null,
   "metadata": {
    "id": "174AvRAwDXvF"
   },
   "outputs": [],
   "source": [
    "# Define model\n",
    "model = KAN([94, 10, 1], grid_size = 5, spline_order=3)\n",
    "device = torch.device(\"cuda\" if torch.cuda.is_available() else \"cpu\")\n",
    "model.to(device)\n",
    "# Define optimizer\n",
    "optimizer = Adam(model.parameters(), lr=1e-2, weight_decay=1e-4)\n",
    "# Define learning rate scheduler\n",
    "scheduler = optim.lr_scheduler.ExponentialLR(optimizer, gamma=0.8)\n",
    "# Define loss\n",
    "criterion = nn.MSELoss()"
   ]
  },
  {
   "cell_type": "code",
   "execution_count": null,
   "metadata": {
    "id": "fYg7ENlcHfow"
   },
   "outputs": [],
   "source": [
    "# def count_parameters(model):\n",
    "#     return sum(p.numel() for p in model.parameters() if p.requires_grad)\n",
    "# count_parameters(model)"
   ]
  },
  {
   "cell_type": "code",
   "execution_count": null,
   "metadata": {
    "colab": {
     "base_uri": "https://localhost:8080/"
    },
    "executionInfo": {
     "elapsed": 1789,
     "status": "ok",
     "timestamp": 1718988033788,
     "user": {
      "displayName": "Farid Hashemian",
      "userId": "07696851809876459273"
     },
     "user_tz": 300
    },
    "id": "tGET0L3FH199",
    "outputId": "d7084b68-4e1f-4fe5-8a05-28431364b183"
   },
   "outputs": [
    {
     "name": "stdout",
     "output_type": "stream",
     "text": [
      "===================================================================================================================\n",
      "Layer (type:depth-idx)                   Output Shape              Param #                   Mult-Adds\n",
      "===================================================================================================================\n",
      "KAN                                      [128, 1]                  --                        --\n",
      "├─ModuleList: 1-1                        --                        --                        --\n",
      "│    └─KANLinear: 2-1                    [128, 10]                 9,400                     --\n",
      "│    │    └─SiLU: 3-1                    [128, 94]                 --                        --\n",
      "│    └─KANLinear: 2-2                    [128, 1]                  100                       --\n",
      "│    │    └─SiLU: 3-2                    [128, 10]                 --                        --\n",
      "===================================================================================================================\n",
      "Total params: 9,500\n",
      "Trainable params: 9,500\n",
      "Non-trainable params: 0\n",
      "Total mult-adds (M): 0\n",
      "===================================================================================================================\n",
      "Input size (MB): 0.05\n",
      "Forward/backward pass size (MB): 0.00\n",
      "Params size (MB): 0.00\n",
      "Estimated Total Size (MB): 0.05\n",
      "===================================================================================================================\n"
     ]
    }
   ],
   "source": [
    "from torchinfo import summary\n",
    "\n",
    "  # Assuming RegressionNet is your model\n",
    "input_size = (128, 94)  # Change according to your model's input size (batch_size, input_dimensions)\n",
    "\n",
    "summary_info = summary(model, input_size=input_size, dtypes=[torch.float32], verbose=0, col_names=[\"output_size\", \"num_params\", \"mult_adds\"])\n",
    "\n",
    "print(summary_info)"
   ]
  },
  {
   "cell_type": "code",
   "execution_count": null,
   "metadata": {
    "colab": {
     "base_uri": "https://localhost:8080/"
    },
    "executionInfo": {
     "elapsed": 31996,
     "status": "ok",
     "timestamp": 1718988070353,
     "user": {
      "displayName": "Farid Hashemian",
      "userId": "07696851809876459273"
     },
     "user_tz": 300
    },
    "id": "DHBkxv2yJp0L",
    "outputId": "6b166497-a9ee-4a92-f0d2-5dc802f507ac"
   },
   "outputs": [
    {
     "name": "stderr",
     "output_type": "stream",
     "text": [
      "/usr/local/lib/python3.10/dist-packages/torch/nn/modules/loss.py:535: UserWarning: Using a target size (torch.Size([128])) that is different to the input size (torch.Size([128, 1])). This will likely lead to incorrect results due to broadcasting. Please ensure they have the same size.\n",
      "  return F.mse_loss(input, target, reduction=self.reduction)\n",
      "/usr/local/lib/python3.10/dist-packages/torch/nn/modules/loss.py:535: UserWarning: Using a target size (torch.Size([85])) that is different to the input size (torch.Size([85, 1])). This will likely lead to incorrect results due to broadcasting. Please ensure they have the same size.\n",
      "  return F.mse_loss(input, target, reduction=self.reduction)\n",
      "/usr/local/lib/python3.10/dist-packages/torch/nn/modules/loss.py:535: UserWarning: Using a target size (torch.Size([69])) that is different to the input size (torch.Size([69, 1])). This will likely lead to incorrect results due to broadcasting. Please ensure they have the same size.\n",
      "  return F.mse_loss(input, target, reduction=self.reduction)\n"
     ]
    },
    {
     "name": "stdout",
     "output_type": "stream",
     "text": [
      "==>>> epoch: 1, train loss: 1.000248\n",
      "Epoch 1, Current Memory: 800.70144 MB\n",
      "Peak Memory: 4799.843328 MB\n",
      "==>>> epoch: 1, val loss: 1.114742\n",
      "Epoch 1, Current Memory: 800.695296 MB\n",
      "Peak Memory: 4799.843328 MB\n",
      "=======================================================\n",
      "Time spent at each epoch: 1.6176469326019287\n",
      "==>>> epoch: 2, train loss: 1.000454\n",
      "Epoch 2, Current Memory: 800.70144 MB\n",
      "Peak Memory: 4799.843328 MB\n",
      "==>>> epoch: 2, val loss: 1.111323\n",
      "Epoch 2, Current Memory: 800.695296 MB\n",
      "Peak Memory: 4799.843328 MB\n",
      "=======================================================\n",
      "Time spent at each epoch: 1.6005878448486328\n",
      "==>>> epoch: 3, train loss: 1.000997\n",
      "Epoch 3, Current Memory: 800.70144 MB\n",
      "Peak Memory: 4799.843328 MB\n",
      "==>>> epoch: 3, val loss: 1.107929\n",
      "Epoch 3, Current Memory: 800.695296 MB\n",
      "Peak Memory: 4799.843328 MB\n",
      "=======================================================\n",
      "Time spent at each epoch: 1.6179325580596924\n",
      "==>>> epoch: 4, train loss: 0.999488\n",
      "Epoch 4, Current Memory: 800.70144 MB\n",
      "Peak Memory: 4799.843328 MB\n",
      "==>>> epoch: 4, val loss: 1.108636\n",
      "Epoch 4, Current Memory: 800.714752 MB\n",
      "Peak Memory: 4799.843328 MB\n",
      "=======================================================\n",
      "Time spent at each epoch: 1.6380784511566162\n",
      "==>>> epoch: 5, train loss: 0.999604\n",
      "Epoch 5, Current Memory: 800.70144 MB\n",
      "Peak Memory: 4799.843328 MB\n",
      "==>>> epoch: 5, val loss: 1.107927\n",
      "Epoch 5, Current Memory: 800.714752 MB\n",
      "Peak Memory: 4799.843328 MB\n",
      "=======================================================\n",
      "Time spent at each epoch: 1.6069793701171875\n",
      "==>>> epoch: 6, train loss: 0.999803\n",
      "Epoch 6, Current Memory: 800.70144 MB\n",
      "Peak Memory: 4799.843328 MB\n",
      "==>>> epoch: 6, val loss: 1.110204\n",
      "Epoch 6, Current Memory: 800.714752 MB\n",
      "Peak Memory: 4799.843328 MB\n",
      "=======================================================\n",
      "Time spent at each epoch: 1.6096463203430176\n",
      "==>>> epoch: 7, train loss: 0.999500\n",
      "Epoch 7, Current Memory: 800.70144 MB\n",
      "Peak Memory: 4799.843328 MB\n",
      "==>>> epoch: 7, val loss: 1.121258\n",
      "Epoch 7, Current Memory: 800.714752 MB\n",
      "Peak Memory: 4799.843328 MB\n",
      "=======================================================\n",
      "Time spent at each epoch: 1.592897891998291\n",
      "==>>> epoch: 8, train loss: 1.009493\n",
      "Epoch 8, Current Memory: 800.70144 MB\n",
      "Peak Memory: 4799.843328 MB\n",
      "==>>> epoch: 8, val loss: 1.109259\n",
      "Epoch 8, Current Memory: 800.714752 MB\n",
      "Peak Memory: 4799.843328 MB\n",
      "=======================================================\n",
      "Time spent at each epoch: 1.590702772140503\n",
      "==>>> epoch: 9, train loss: 1.000729\n",
      "Epoch 9, Current Memory: 800.70144 MB\n",
      "Peak Memory: 4799.843328 MB\n",
      "==>>> epoch: 9, val loss: 1.119219\n",
      "Epoch 9, Current Memory: 800.714752 MB\n",
      "Peak Memory: 4799.843328 MB\n",
      "=======================================================\n",
      "Time spent at each epoch: 1.6127018928527832\n",
      "==>>> epoch: 10, train loss: 1.000287\n",
      "Epoch 10, Current Memory: 800.70144 MB\n",
      "Peak Memory: 4799.843328 MB\n",
      "==>>> epoch: 10, val loss: 1.107816\n",
      "Epoch 10, Current Memory: 800.714752 MB\n",
      "Peak Memory: 4799.843328 MB\n",
      "=======================================================\n",
      "Time spent at each epoch: 1.6102259159088135\n",
      "==>>> epoch: 11, train loss: 1.000203\n",
      "Epoch 11, Current Memory: 800.70144 MB\n",
      "Peak Memory: 4799.843328 MB\n",
      "==>>> epoch: 11, val loss: 1.108174\n",
      "Epoch 11, Current Memory: 800.695296 MB\n",
      "Peak Memory: 4799.843328 MB\n",
      "=======================================================\n",
      "Time spent at each epoch: 1.6492104530334473\n",
      "==>>> epoch: 12, train loss: 1.001043\n",
      "Epoch 12, Current Memory: 800.70144 MB\n",
      "Peak Memory: 4799.843328 MB\n",
      "==>>> epoch: 12, val loss: 1.107038\n",
      "Epoch 12, Current Memory: 800.695296 MB\n",
      "Peak Memory: 4799.843328 MB\n",
      "=======================================================\n",
      "Time spent at each epoch: 1.6558094024658203\n",
      "==>>> epoch: 13, train loss: 1.000548\n",
      "Epoch 13, Current Memory: 800.70144 MB\n",
      "Peak Memory: 4799.843328 MB\n",
      "==>>> epoch: 13, val loss: 1.107099\n",
      "Epoch 13, Current Memory: 800.695296 MB\n",
      "Peak Memory: 4799.843328 MB\n",
      "=======================================================\n",
      "Time spent at each epoch: 1.6056859493255615\n",
      "==>>> epoch: 14, train loss: 1.000374\n",
      "Epoch 14, Current Memory: 800.70144 MB\n",
      "Peak Memory: 4799.843328 MB\n",
      "==>>> epoch: 14, val loss: 1.119525\n",
      "Epoch 14, Current Memory: 800.695296 MB\n",
      "Peak Memory: 4799.843328 MB\n",
      "=======================================================\n",
      "Time spent at each epoch: 1.6052839756011963\n",
      "==>>> epoch: 15, train loss: 1.000375\n",
      "Epoch 15, Current Memory: 800.70144 MB\n",
      "Peak Memory: 4799.843328 MB\n",
      "==>>> epoch: 15, val loss: 1.107072\n",
      "Epoch 15, Current Memory: 800.695296 MB\n",
      "Peak Memory: 4799.843328 MB\n",
      "=======================================================\n",
      "Time spent at each epoch: 1.6412971019744873\n",
      "==>>> epoch: 16, train loss: 1.002124\n",
      "Epoch 16, Current Memory: 800.70144 MB\n",
      "Peak Memory: 4799.843328 MB\n",
      "==>>> epoch: 16, val loss: 1.125969\n",
      "Epoch 16, Current Memory: 800.714752 MB\n",
      "Peak Memory: 4799.843328 MB\n",
      "=======================================================\n",
      "Time spent at each epoch: 1.6645350456237793\n",
      "==>>> epoch: 17, train loss: 0.999809\n",
      "Epoch 17, Current Memory: 800.70144 MB\n",
      "Peak Memory: 4799.843328 MB\n",
      "==>>> epoch: 17, val loss: 1.108136\n",
      "Epoch 17, Current Memory: 800.714752 MB\n",
      "Peak Memory: 4799.843328 MB\n",
      "=======================================================\n",
      "Time spent at each epoch: 1.6015043258666992\n",
      "==>>> epoch: 18, train loss: 0.999337\n",
      "Epoch 18, Current Memory: 800.6528 MB\n",
      "Peak Memory: 4799.843328 MB\n",
      "==>>> epoch: 18, val loss: 1.108079\n",
      "Epoch 18, Current Memory: 800.695296 MB\n",
      "Peak Memory: 4799.843328 MB\n",
      "=======================================================\n",
      "Time spent at each epoch: 1.6930358409881592\n",
      "==>>> epoch: 19, train loss: 0.999907\n",
      "Epoch 19, Current Memory: 800.70144 MB\n",
      "Peak Memory: 4799.843328 MB\n",
      "==>>> epoch: 19, val loss: 1.116095\n",
      "Epoch 19, Current Memory: 800.695296 MB\n",
      "Peak Memory: 4799.843328 MB\n",
      "=======================================================\n",
      "Time spent at each epoch: 1.6759023666381836\n",
      "==>>> epoch: 20, train loss: 1.001197\n",
      "Epoch 20, Current Memory: 800.70144 MB\n",
      "Peak Memory: 4799.843328 MB\n",
      "==>>> epoch: 20, val loss: 1.106867\n",
      "Epoch 20, Current Memory: 800.714752 MB\n",
      "Peak Memory: 4799.843328 MB\n",
      "=======================================================\n",
      "Time spent at each epoch: 1.6218430995941162\n"
     ]
    }
   ],
   "source": [
    "train_loss = []\n",
    "validation_loss = []\n",
    "\n",
    "for epoch in range(20):\n",
    "    # trainning\n",
    "    start_time = time.time()\n",
    "    total_loss = 0\n",
    "    for batch_idx, (x, target) in enumerate(train_loader):\n",
    "        optimizer.zero_grad()\n",
    "        x, target = x.cuda(), target.cuda()\n",
    "        out = model(x)\n",
    "        loss = criterion(out, target)\n",
    "        total_loss += loss.item()\n",
    "        loss.backward()\n",
    "        optimizer.step()\n",
    "    avg_loss = total_loss / len(train_loader)\n",
    "    train_loss.append(avg_loss)\n",
    "    print(f'==>>> epoch: {epoch+1}, train loss: {avg_loss:.6f}')\n",
    "    print(f'Epoch {epoch + 1}, Current Memory: {torch.cuda.memory_allocated() / 1e6} MB')\n",
    "    print(f'Peak Memory: {torch.cuda.max_memory_allocated() / 1e6} MB')\n",
    "    # evaluating\n",
    "    with torch.no_grad():\n",
    "\n",
    "      total_loss = 0\n",
    "      for batch_idx, (x, target) in enumerate(val_loader):\n",
    "          x, target = x.cuda(), target.cuda()\n",
    "          out = model(x)\n",
    "          val_loss = criterion(out, target)\n",
    "          total_loss += val_loss.item()\n",
    "      avg_loss = total_loss / len(val_loader)\n",
    "      validation_loss.append(avg_loss)\n",
    "      end_time = time.time()\n",
    "      print(f'==>>> epoch: {epoch+1}, val loss: {avg_loss:.6f}')\n",
    "      print(f'Epoch {epoch + 1}, Current Memory: {torch.cuda.memory_allocated() / 1e6} MB')\n",
    "      print(f'Peak Memory: {torch.cuda.max_memory_allocated() / 1e6} MB')\n",
    "      print('=======================================================')\n",
    "      print(f'Time spent at each epoch: {end_time - start_time}')"
   ]
  },
  {
   "cell_type": "markdown",
   "metadata": {
    "id": "mbvNQp4Mab9P"
   },
   "source": [
    "### Results"
   ]
  },
  {
   "cell_type": "code",
   "execution_count": null,
   "metadata": {
    "colab": {
     "base_uri": "https://localhost:8080/",
     "height": 472
    },
    "executionInfo": {
     "elapsed": 6,
     "status": "ok",
     "timestamp": 1718988070353,
     "user": {
      "displayName": "Farid Hashemian",
      "userId": "07696851809876459273"
     },
     "user_tz": 300
    },
    "id": "4boNvR-cKCWL",
    "outputId": "05f39e70-f0b6-4c60-fc75-74c0caae371b"
   },
   "outputs": [
    {
     "data": {
      "image/png": "[encoded data removed]",
      "text/plain": [
       "<Figure size 640x480 with 1 Axes>"
      ]
     },
     "metadata": {},
     "output_type": "display_data"
    }
   ],
   "source": [
    "# Plot the training loss and validation loss\n",
    "plt.plot(train_loss, label='Training Loss')\n",
    "plt.plot(validation_loss, label='Validation Loss')\n",
    "plt.title('Training and Validation Loss')\n",
    "plt.xlabel('Epoch')\n",
    "plt.ylabel('Loss')\n",
    "plt.legend()\n",
    "plt.show()"
   ]
  },
  {
   "cell_type": "code",
   "execution_count": null,
   "metadata": {
    "id": "lCKZWpu3Sy40"
   },
   "outputs": [],
   "source": [
    "ssq = torch.nn.MSELoss(reduction = 'sum')"
   ]
  },
  {
   "cell_type": "code",
   "execution_count": null,
   "metadata": {
    "colab": {
     "base_uri": "https://localhost:8080/"
    },
    "executionInfo": {
     "elapsed": 2702,
     "status": "ok",
     "timestamp": 1718988073052,
     "user": {
      "displayName": "Farid Hashemian",
      "userId": "07696851809876459273"
     },
     "user_tz": 300
    },
    "id": "UnqZyGJjSy2l",
    "outputId": "f40e918f-2c68-4379-bce3-5fd09d4bc214"
   },
   "outputs": [
    {
     "name": "stdout",
     "output_type": "stream",
     "text": [
      "Loss: 0.999058 \t RMSE: 0.999529\n"
     ]
    }
   ],
   "source": [
    "running_loss_train = 0.0\n",
    "with torch.no_grad():\n",
    "    for element, (x, target) in enumerate(train_loader):\n",
    "        x, target = x.cuda(), target.cuda()\n",
    "        out = model(x)\n",
    "        loss = ssq(out, target.reshape(target.shape[0],1))\n",
    "        running_loss_train += loss.item()\n",
    "    mse = running_loss_train/len(train_loader.sampler)\n",
    "print(\"Loss: %.6f \\t RMSE: %.6f\"%(mse,mse**0.5))"
   ]
  },
  {
   "cell_type": "code",
   "execution_count": null,
   "metadata": {
    "colab": {
     "base_uri": "https://localhost:8080/"
    },
    "executionInfo": {
     "elapsed": 3,
     "status": "ok",
     "timestamp": 1718988073052,
     "user": {
      "displayName": "Farid Hashemian",
      "userId": "07696851809876459273"
     },
     "user_tz": 300
    },
    "id": "QESgS4ySSyy3",
    "outputId": "9cbf39a2-0fe6-4423-aa55-e4cfe3386881"
   },
   "outputs": [
    {
     "name": "stdout",
     "output_type": "stream",
     "text": [
      "Loss: 1.111332 \t RMSE: 1.054197\n"
     ]
    }
   ],
   "source": [
    "running_loss_val = 0.0\n",
    "with torch.no_grad():\n",
    "    for element, (x, target) in enumerate(val_loader):\n",
    "        x, target = x.cuda(), target.cuda()\n",
    "        out = model(x)\n",
    "        loss = ssq(out, target.reshape(target.shape[0],1))\n",
    "        running_loss_val += loss.item()\n",
    "    mse = running_loss_val/len(val_loader.sampler)\n",
    "print(\"Loss: %.6f \\t RMSE: %.6f\"%(mse,mse**0.5))"
   ]
  },
  {
   "cell_type": "code",
   "execution_count": null,
   "metadata": {
    "colab": {
     "base_uri": "https://localhost:8080/"
    },
    "executionInfo": {
     "elapsed": 2,
     "status": "ok",
     "timestamp": 1718988073052,
     "user": {
      "displayName": "Farid Hashemian",
      "userId": "07696851809876459273"
     },
     "user_tz": 300
    },
    "id": "PGt7NxU3S51d",
    "outputId": "2de16999-8e57-4df2-9d11-ca2a4e11530c"
   },
   "outputs": [
    {
     "name": "stdout",
     "output_type": "stream",
     "text": [
      "Loss: 1.212879 \t RMSE: 1.101308\n"
     ]
    }
   ],
   "source": [
    "running_loss_test = 0.0\n",
    "with torch.no_grad():\n",
    "    for element, (x, target) in enumerate(test_loader):\n",
    "        x, target = x.cuda(), target.cuda()\n",
    "        out = model(x)\n",
    "        loss = ssq(out, target.reshape(target.shape[0],1))\n",
    "        running_loss_test += loss.item()\n",
    "    mse = running_loss_test/len(test_loader.sampler)\n",
    "print(\"Loss: %.6f \\t RMSE: %.6f\"%(mse,mse**0.5))"
   ]
  },
  {
   "cell_type": "code",
   "execution_count": null,
   "metadata": {
    "colab": {
     "base_uri": "https://localhost:8080/"
    },
    "executionInfo": {
     "elapsed": 2,
     "status": "ok",
     "timestamp": 1718988073052,
     "user": {
      "displayName": "Farid Hashemian",
      "userId": "07696851809876459273"
     },
     "user_tz": 300
    },
    "id": "JXL4OhwWOX68",
    "outputId": "9d1ca43e-bc56-4d6a-c2fb-7a3f2e1f80fe"
   },
   "outputs": [
    {
     "name": "stdout",
     "output_type": "stream",
     "text": [
      "tensor([[-0.0021],\n",
      "        [ 0.0025],\n",
      "        [ 0.0053],\n",
      "        ...,\n",
      "        [ 0.0006],\n",
      "        [-0.0012],\n",
      "        [ 0.0009]], device='cuda:0')\n"
     ]
    }
   ],
   "source": [
    "with torch.no_grad():\n",
    "    outputs = model(test_dataset.tensors[0].cuda())\n",
    "    print(outputs)"
   ]
  },
  {
   "cell_type": "code",
   "execution_count": null,
   "metadata": {
    "id": "KsPX_mDMPeZa"
   },
   "outputs": [],
   "source": [
    "preds = outputs.detach().cpu().numpy().reshape(-1,1)\n",
    "targets = test_dataset.tensors[1].detach().cpu().numpy().reshape(-1,1)"
   ]
  },
  {
   "cell_type": "code",
   "execution_count": null,
   "metadata": {
    "colab": {
     "base_uri": "https://localhost:8080/"
    },
    "executionInfo": {
     "elapsed": 1,
     "status": "ok",
     "timestamp": 1718988073052,
     "user": {
      "displayName": "Farid Hashemian",
      "userId": "07696851809876459273"
     },
     "user_tz": 300
    },
    "id": "r4e_cf-EWQTs",
    "outputId": "c4b73f80-4516-4236-91a5-effee197ed54"
   },
   "outputs": [
    {
     "name": "stdout",
     "output_type": "stream",
     "text": [
      "MSE: 1.2129 and R2: 0.0007\n"
     ]
    }
   ],
   "source": [
    "print(f'MSE: {mean_squared_error(targets, preds):.4f} and R2: {r2_score(targets, preds):.4f}')"
   ]
  },
  {
   "cell_type": "markdown",
   "metadata": {
    "id": "_gpuebqCN_a5"
   },
   "source": [
    "# MLP"
   ]
  },
  {
   "cell_type": "markdown",
   "metadata": {
    "id": "YTfRbLp7cS2f"
   },
   "source": [
    "### Model and Training"
   ]
  },
  {
   "cell_type": "code",
   "execution_count": 83,
   "metadata": {
    "executionInfo": {
     "elapsed": 123,
     "status": "ok",
     "timestamp": 1729092698781,
     "user": {
      "displayName": "Farid Hashemian",
      "userId": "07696851809876459273"
     },
     "user_tz": 300
    },
    "id": "FHgfPcHD05rk"
   },
   "outputs": [],
   "source": [
    "class Net(nn.Module):\n",
    "  def __init__(self):\n",
    "    super(Net, self).__init__()\n",
    "    self.fc1 = nn.Linear(94, 256)\n",
    "    self.fc2 = nn.Linear(256, 1024)\n",
    "    self.fc3 = nn.Linear(1024, 512)\n",
    "    self.fc4 = nn.Linear(512, 256)\n",
    "    self.fc5 = nn.Linear(256, 128)\n",
    "    self.fc6 = nn.Linear(128, 1)\n",
    "    self.do1 = nn.Dropout(0.5)\n",
    "    self.do2 = nn.Dropout(0.5)\n",
    "    self.do3 = nn.Dropout(0.5)\n",
    "    self.do4 = nn.Dropout(0.5)\n",
    "    self.do5 = nn.Dropout(0.5)\n",
    "    self.bn1 = nn.BatchNorm1d(256)\n",
    "    self.bn2 = nn.BatchNorm1d(1024)\n",
    "    self.bn3 = nn.BatchNorm1d(512)\n",
    "    self.bn4 = nn.BatchNorm1d(256)\n",
    "    self.bn5 = nn.BatchNorm1d(128)\n",
    "    self.relu = nn.ReLU()\n",
    "\n",
    "  def forward(self, x):\n",
    "    x = self.relu(self.fc1(x))\n",
    "    x = self.bn1(x)\n",
    "    x = self.fc2(x)\n",
    "    x = self.bn2(x)\n",
    "    x = self.relu(self.fc3(x))\n",
    "    x = self.bn3(x)\n",
    "    x = self.relu(self.fc4(x))\n",
    "    x = self.bn4(x)\n",
    "    x = self.relu(self.fc5(x))\n",
    "    x = self.bn5(x)\n",
    "    x = self.do5(x)\n",
    "    x = self.fc6(x)\n",
    "    # x = self.relu(self.fc3(x))\n",
    "    # x = self.relu(self.fc4(x))\n",
    "    # x = self.fc5(x)\n",
    "    return x"
   ]
  },
  {
   "cell_type": "code",
   "execution_count": 84,
   "metadata": {
    "executionInfo": {
     "elapsed": 160,
     "status": "ok",
     "timestamp": 1729092702170,
     "user": {
      "displayName": "Farid Hashemian",
      "userId": "07696851809876459273"
     },
     "user_tz": 300
    },
    "id": "D1qFqPMJ8clP"
   },
   "outputs": [],
   "source": [
    "model = Net()\n",
    "device = torch.device('cuda' if torch.cuda.is_available() else 'cpu')\n",
    "model = model.to(device)\n",
    "optimizer = Adam(model.parameters(), lr=0.001)\n",
    "criterion = MSELoss()\n",
    "epochs = 20"
   ]
  },
  {
   "cell_type": "code",
   "execution_count": null,
   "metadata": {
    "id": "2TK_zAYdMLn4"
   },
   "outputs": [],
   "source": [
    "# input_size = (128, 94)  # Change according to your model's input size (batch_size, input_dimensions)\n",
    "\n",
    "# summary_info = summary(model, input_size=input_size, dtypes=[torch.float32], verbose=0, col_names=[\"output_size\", \"num_params\", \"mult_adds\"])\n",
    "\n",
    "# print(summary_info)"
   ]
  },
  {
   "cell_type": "code",
   "execution_count": 85,
   "metadata": {
    "colab": {
     "base_uri": "https://localhost:8080/"
    },
    "executionInfo": {
     "elapsed": 39446,
     "status": "ok",
     "timestamp": 1729092742380,
     "user": {
      "displayName": "Farid Hashemian",
      "userId": "07696851809876459273"
     },
     "user_tz": 300
    },
    "id": "Whae2tx2zDyr",
    "outputId": "540b9042-5692-47e9-f944-d19eee728012"
   },
   "outputs": [
    {
     "name": "stderr",
     "output_type": "stream",
     "text": [
      "/usr/local/lib/python3.10/dist-packages/torch/nn/modules/loss.py:538: UserWarning: Using a target size (torch.Size([128])) that is different to the input size (torch.Size([128, 1])). This will likely lead to incorrect results due to broadcasting. Please ensure they have the same size.\n",
      "  return F.mse_loss(input, target, reduction=self.reduction)\n",
      "/usr/local/lib/python3.10/dist-packages/torch/nn/modules/loss.py:538: UserWarning: Using a target size (torch.Size([2])) that is different to the input size (torch.Size([2, 1])). This will likely lead to incorrect results due to broadcasting. Please ensure they have the same size.\n",
      "  return F.mse_loss(input, target, reduction=self.reduction)\n",
      "/usr/local/lib/python3.10/dist-packages/torch/nn/modules/loss.py:538: UserWarning: Using a target size (torch.Size([1])) that is different to the input size (torch.Size([1, 1])). This will likely lead to incorrect results due to broadcasting. Please ensure they have the same size.\n",
      "  return F.mse_loss(input, target, reduction=self.reduction)\n"
     ]
    },
    {
     "name": "stdout",
     "output_type": "stream",
     "text": [
      "==>>> epoch: 1, train loss: 1.065006\n",
      "Epoch 1, Current Memory: 40.77312 MB\n",
      "Peak Memory: 102.843904 MB\n",
      "==>>> epoch: 1, val loss: 20.037070\n",
      "Epoch 1, Current Memory: 40.772608 MB\n",
      "Peak Memory: 102.843904 MB\n",
      "=======================================================\n",
      "Time spent at each epoch: 2.062241315841675\n",
      "==>>> epoch: 2, train loss: 0.998793\n",
      "Epoch 2, Current Memory: 40.77312 MB\n",
      "Peak Memory: 102.843904 MB\n",
      "==>>> epoch: 2, val loss: 2.169857\n",
      "Epoch 2, Current Memory: 40.772608 MB\n",
      "Peak Memory: 102.843904 MB\n",
      "=======================================================\n",
      "Time spent at each epoch: 1.9190397262573242\n",
      "==>>> epoch: 3, train loss: 0.998606\n",
      "Epoch 3, Current Memory: 40.77312 MB\n",
      "Peak Memory: 102.843904 MB\n",
      "==>>> epoch: 3, val loss: 1.390819\n",
      "Epoch 3, Current Memory: 40.772608 MB\n",
      "Peak Memory: 102.843904 MB\n",
      "=======================================================\n",
      "Time spent at each epoch: 1.9267704486846924\n",
      "==>>> epoch: 4, train loss: 0.998217\n",
      "Epoch 4, Current Memory: 40.77312 MB\n",
      "Peak Memory: 102.843904 MB\n",
      "==>>> epoch: 4, val loss: 3.673210\n",
      "Epoch 4, Current Memory: 40.772608 MB\n",
      "Peak Memory: 102.843904 MB\n",
      "=======================================================\n",
      "Time spent at each epoch: 1.9734995365142822\n",
      "==>>> epoch: 5, train loss: 0.998777\n",
      "Epoch 5, Current Memory: 40.77312 MB\n",
      "Peak Memory: 102.843904 MB\n",
      "==>>> epoch: 5, val loss: 1.046989\n",
      "Epoch 5, Current Memory: 40.772608 MB\n",
      "Peak Memory: 102.843904 MB\n",
      "=======================================================\n",
      "Time spent at each epoch: 1.9298255443572998\n",
      "==>>> epoch: 6, train loss: 0.998211\n",
      "Epoch 6, Current Memory: 40.77312 MB\n",
      "Peak Memory: 102.843904 MB\n",
      "==>>> epoch: 6, val loss: 0.929145\n",
      "Epoch 6, Current Memory: 40.772608 MB\n",
      "Peak Memory: 102.843904 MB\n",
      "=======================================================\n",
      "Time spent at each epoch: 1.9706518650054932\n",
      "==>>> epoch: 7, train loss: 0.998634\n",
      "Epoch 7, Current Memory: 40.77312 MB\n",
      "Peak Memory: 102.843904 MB\n",
      "==>>> epoch: 7, val loss: 3.966087\n",
      "Epoch 7, Current Memory: 40.772608 MB\n",
      "Peak Memory: 102.843904 MB\n",
      "=======================================================\n",
      "Time spent at each epoch: 1.9836413860321045\n",
      "==>>> epoch: 8, train loss: 0.998600\n",
      "Epoch 8, Current Memory: 40.77312 MB\n",
      "Peak Memory: 102.843904 MB\n",
      "==>>> epoch: 8, val loss: 2.363184\n",
      "Epoch 8, Current Memory: 40.772608 MB\n",
      "Peak Memory: 102.843904 MB\n",
      "=======================================================\n",
      "Time spent at each epoch: 1.960198163986206\n",
      "==>>> epoch: 9, train loss: 1.006568\n",
      "Epoch 9, Current Memory: 40.77312 MB\n",
      "Peak Memory: 102.843904 MB\n",
      "==>>> epoch: 9, val loss: 1.097816\n",
      "Epoch 9, Current Memory: 40.772608 MB\n",
      "Peak Memory: 102.843904 MB\n",
      "=======================================================\n",
      "Time spent at each epoch: 1.977285385131836\n",
      "==>>> epoch: 10, train loss: 1.000502\n",
      "Epoch 10, Current Memory: 40.77312 MB\n",
      "Peak Memory: 102.843904 MB\n",
      "==>>> epoch: 10, val loss: 3.835691\n",
      "Epoch 10, Current Memory: 40.77312 MB\n",
      "Peak Memory: 102.843904 MB\n",
      "=======================================================\n",
      "Time spent at each epoch: 1.9598455429077148\n",
      "==>>> epoch: 11, train loss: 0.998116\n",
      "Epoch 11, Current Memory: 40.77312 MB\n",
      "Peak Memory: 102.843904 MB\n",
      "==>>> epoch: 11, val loss: 29.368463\n",
      "Epoch 11, Current Memory: 40.772608 MB\n",
      "Peak Memory: 102.843904 MB\n",
      "=======================================================\n",
      "Time spent at each epoch: 1.9501357078552246\n",
      "==>>> epoch: 12, train loss: 0.998401\n",
      "Epoch 12, Current Memory: 40.77312 MB\n",
      "Peak Memory: 102.843904 MB\n",
      "==>>> epoch: 12, val loss: 1.522052\n",
      "Epoch 12, Current Memory: 40.772608 MB\n",
      "Peak Memory: 102.843904 MB\n",
      "=======================================================\n",
      "Time spent at each epoch: 1.9664771556854248\n",
      "==>>> epoch: 13, train loss: 0.998682\n",
      "Epoch 13, Current Memory: 40.77312 MB\n",
      "Peak Memory: 102.843904 MB\n",
      "==>>> epoch: 13, val loss: 1.420596\n",
      "Epoch 13, Current Memory: 40.772608 MB\n",
      "Peak Memory: 102.843904 MB\n",
      "=======================================================\n",
      "Time spent at each epoch: 1.986557960510254\n",
      "==>>> epoch: 14, train loss: 0.999007\n",
      "Epoch 14, Current Memory: 40.77312 MB\n",
      "Peak Memory: 102.843904 MB\n",
      "==>>> epoch: 14, val loss: 1.079718\n",
      "Epoch 14, Current Memory: 40.772608 MB\n",
      "Peak Memory: 102.843904 MB\n",
      "=======================================================\n",
      "Time spent at each epoch: 1.9960923194885254\n",
      "==>>> epoch: 15, train loss: 0.998345\n",
      "Epoch 15, Current Memory: 40.77312 MB\n",
      "Peak Memory: 102.843904 MB\n",
      "==>>> epoch: 15, val loss: 2.101009\n",
      "Epoch 15, Current Memory: 40.772608 MB\n",
      "Peak Memory: 102.843904 MB\n",
      "=======================================================\n",
      "Time spent at each epoch: 1.9502980709075928\n",
      "==>>> epoch: 16, train loss: 1.002044\n",
      "Epoch 16, Current Memory: 40.77312 MB\n",
      "Peak Memory: 102.843904 MB\n",
      "==>>> epoch: 16, val loss: 883.944527\n",
      "Epoch 16, Current Memory: 40.77312 MB\n",
      "Peak Memory: 102.843904 MB\n",
      "=======================================================\n",
      "Time spent at each epoch: 1.9564595222473145\n",
      "==>>> epoch: 17, train loss: 1.004598\n",
      "Epoch 17, Current Memory: 40.77312 MB\n",
      "Peak Memory: 102.843904 MB\n",
      "==>>> epoch: 17, val loss: 1.296405\n",
      "Epoch 17, Current Memory: 40.772608 MB\n",
      "Peak Memory: 102.843904 MB\n",
      "=======================================================\n",
      "Time spent at each epoch: 1.9500253200531006\n",
      "==>>> epoch: 18, train loss: 0.999655\n",
      "Epoch 18, Current Memory: 40.77312 MB\n",
      "Peak Memory: 102.843904 MB\n",
      "==>>> epoch: 18, val loss: 10.035577\n",
      "Epoch 18, Current Memory: 40.772608 MB\n",
      "Peak Memory: 102.843904 MB\n",
      "=======================================================\n",
      "Time spent at each epoch: 1.916327714920044\n",
      "==>>> epoch: 19, train loss: 0.998424\n",
      "Epoch 19, Current Memory: 40.77312 MB\n",
      "Peak Memory: 102.843904 MB\n",
      "==>>> epoch: 19, val loss: 1.043042\n",
      "Epoch 19, Current Memory: 40.772608 MB\n",
      "Peak Memory: 102.843904 MB\n",
      "=======================================================\n",
      "Time spent at each epoch: 1.9730050563812256\n",
      "==>>> epoch: 20, train loss: 0.998308\n",
      "Epoch 20, Current Memory: 40.77312 MB\n",
      "Peak Memory: 102.843904 MB\n",
      "==>>> epoch: 20, val loss: 1.896543\n",
      "Epoch 20, Current Memory: 40.77312 MB\n",
      "Peak Memory: 102.843904 MB\n",
      "=======================================================\n",
      "Time spent at each epoch: 1.987926959991455\n"
     ]
    }
   ],
   "source": [
    "train_loss = []\n",
    "validation_loss = []\n",
    "\n",
    "for epoch in range(epochs):\n",
    "    model.train()\n",
    "    # trainning\n",
    "    start_time = time.time()\n",
    "    total_loss = 0\n",
    "    for batch_idx, (x, target) in enumerate(train_loader):\n",
    "        optimizer.zero_grad()\n",
    "        x, target = x.to(device), target.to(device)\n",
    "        out = model(x)\n",
    "        loss = criterion(out, target)\n",
    "        total_loss += loss.item()\n",
    "        loss.backward()\n",
    "        optimizer.step()\n",
    "    avg_loss = total_loss / len(train_loader)\n",
    "    train_loss.append(avg_loss)\n",
    "    print(f'==>>> epoch: {epoch+1}, train loss: {avg_loss:.6f}')\n",
    "    print(f'Epoch {epoch + 1}, Current Memory: {torch.cuda.memory_allocated() / 1e6} MB')\n",
    "    print(f'Peak Memory: {torch.cuda.max_memory_allocated() / 1e6} MB')\n",
    "\n",
    "    # evaluating\n",
    "    with torch.no_grad():\n",
    "      model.eval()\n",
    "      total_loss = 0\n",
    "      for batch_idx, (x, target) in enumerate(val_loader):\n",
    "          x, target = x.to(device), target.to(device)\n",
    "          out = model(x)\n",
    "          val_loss = criterion(out, target)\n",
    "          total_loss += val_loss.item()\n",
    "      avg_loss = total_loss / len(val_loader)\n",
    "      validation_loss.append(avg_loss)\n",
    "      end_time = time.time()\n",
    "      print(f'==>>> epoch: {epoch+1}, val loss: {avg_loss:.6f}')\n",
    "      print(f'Epoch {epoch + 1}, Current Memory: {torch.cuda.memory_allocated() / 1e6} MB')\n",
    "      print(f'Peak Memory: {torch.cuda.max_memory_allocated() / 1e6} MB')\n",
    "      print('=======================================================')\n",
    "      print(f'Time spent at each epoch: {end_time - start_time}')"
   ]
  },
  {
   "cell_type": "markdown",
   "metadata": {
    "id": "gMkGNVoEcYIw"
   },
   "source": [
    "### Results"
   ]
  },
  {
   "cell_type": "code",
   "execution_count": 86,
   "metadata": {
    "colab": {
     "base_uri": "https://localhost:8080/",
     "height": 472
    },
    "executionInfo": {
     "elapsed": 275,
     "status": "ok",
     "timestamp": 1729092743786,
     "user": {
      "displayName": "Farid Hashemian",
      "userId": "07696851809876459273"
     },
     "user_tz": 300
    },
    "id": "LK83WHvMDK6b",
    "outputId": "13c9e4cc-1ae6-4a02-f74e-bcebdbd3e433"
   },
   "outputs": [
    {
     "data": {
      "image/png": "[encoded data removed]",
      "text/plain": [
       "<Figure size 640x480 with 1 Axes>"
      ]
     },
     "metadata": {},
     "output_type": "display_data"
    }
   ],
   "source": [
    "# Plot the training loss and validation loss\n",
    "plt.plot(train_loss, label='Training Loss')\n",
    "plt.plot(validation_loss, label='Validation Loss')\n",
    "plt.title('Training and Validation Loss')\n",
    "plt.xlabel('Epoch')\n",
    "plt.ylabel('Loss')\n",
    "plt.legend()\n",
    "plt.show()"
   ]
  },
  {
   "cell_type": "code",
   "execution_count": 87,
   "metadata": {
    "executionInfo": {
     "elapsed": 110,
     "status": "ok",
     "timestamp": 1729092746817,
     "user": {
      "displayName": "Farid Hashemian",
      "userId": "07696851809876459273"
     },
     "user_tz": 300
    },
    "id": "0yHp2uzG9dxd"
   },
   "outputs": [],
   "source": [
    "ssq = torch.nn.MSELoss(reduction = 'sum')"
   ]
  },
  {
   "cell_type": "code",
   "execution_count": 88,
   "metadata": {
    "colab": {
     "base_uri": "https://localhost:8080/"
    },
    "executionInfo": {
     "elapsed": 924,
     "status": "ok",
     "timestamp": 1729092748170,
     "user": {
      "displayName": "Farid Hashemian",
      "userId": "07696851809876459273"
     },
     "user_tz": 300
    },
    "id": "2LLP1aNd9sQG",
    "outputId": "1643e03a-4a8f-403e-dd54-01f19476c281"
   },
   "outputs": [
    {
     "name": "stdout",
     "output_type": "stream",
     "text": [
      "Loss: 1.072133 \t RMSE: 1.035439\n"
     ]
    }
   ],
   "source": [
    "running_loss_train = 0.0\n",
    "with torch.no_grad():\n",
    "    for element, (x, target) in enumerate(train_loader):\n",
    "        x, target = x.cuda(), target.cuda()\n",
    "        out = model(x)\n",
    "        loss = ssq(out, target.reshape(target.shape[0],1))\n",
    "        running_loss_train += loss.item()\n",
    "    mse = running_loss_train/len(train_loader.dataset)\n",
    "print(\"Loss: %.6f \\t RMSE: %.6f\"%(mse,mse**0.5))"
   ]
  },
  {
   "cell_type": "code",
   "execution_count": 89,
   "metadata": {
    "colab": {
     "base_uri": "https://localhost:8080/"
    },
    "executionInfo": {
     "elapsed": 262,
     "status": "ok",
     "timestamp": 1729092748431,
     "user": {
      "displayName": "Farid Hashemian",
      "userId": "07696851809876459273"
     },
     "user_tz": 300
    },
    "id": "akNsUYXe-V8A",
    "outputId": "894c5689-1f93-429b-e355-1bdcf31b5dda"
   },
   "outputs": [
    {
     "name": "stdout",
     "output_type": "stream",
     "text": [
      "Loss: 1.909178 \t RMSE: 1.381730\n"
     ]
    }
   ],
   "source": [
    "running_loss_val = 0.0\n",
    "with torch.no_grad():\n",
    "    for element, (x, target) in enumerate(val_loader):\n",
    "        x, target = x.cuda(), target.cuda()\n",
    "        out = model(x)\n",
    "        loss = ssq(out, target.reshape(target.shape[0],1))\n",
    "        running_loss_val += loss.item()\n",
    "    mse = running_loss_val/len(val_loader.dataset)\n",
    "print(\"Loss: %.6f \\t RMSE: %.6f\"%(mse,mse**0.5))"
   ]
  },
  {
   "cell_type": "code",
   "execution_count": 90,
   "metadata": {
    "colab": {
     "base_uri": "https://localhost:8080/"
    },
    "executionInfo": {
     "elapsed": 257,
     "status": "ok",
     "timestamp": 1729092750264,
     "user": {
      "displayName": "Farid Hashemian",
      "userId": "07696851809876459273"
     },
     "user_tz": 300
    },
    "id": "Hk5Td1Sb-V0F",
    "outputId": "490bdc02-c50c-4b8c-e9e3-1cf27c35c093"
   },
   "outputs": [
    {
     "name": "stdout",
     "output_type": "stream",
     "text": [
      "Loss: 1.390003 \t RMSE: 1.178984\n"
     ]
    }
   ],
   "source": [
    "running_loss_test = 0.0\n",
    "with torch.no_grad():\n",
    "    for element, (x, target) in enumerate(test_loader):\n",
    "        x, target = x.cuda(), target.cuda()\n",
    "        out = model(x)\n",
    "        loss = ssq(out, target.reshape(target.shape[0],1))\n",
    "        running_loss_test += loss.item()\n",
    "    mse = running_loss_test/len(test_loader.dataset)\n",
    "print(\"Loss: %.6f \\t RMSE: %.6f\"%(mse,mse**0.5))"
   ]
  },
  {
   "cell_type": "code",
   "execution_count": 91,
   "metadata": {
    "colab": {
     "base_uri": "https://localhost:8080/"
    },
    "executionInfo": {
     "elapsed": 123,
     "status": "ok",
     "timestamp": 1729092751583,
     "user": {
      "displayName": "Farid Hashemian",
      "userId": "07696851809876459273"
     },
     "user_tz": 300
    },
    "id": "KIRFSE_PS-Bz",
    "outputId": "dcc097eb-33dd-4fea-cbea-6b063fa3ee48"
   },
   "outputs": [
    {
     "name": "stdout",
     "output_type": "stream",
     "text": [
      "tensor([[ 0.0010],\n",
      "        [ 0.0034],\n",
      "        [-0.0024],\n",
      "        ...,\n",
      "        [ 0.0011],\n",
      "        [ 0.0043],\n",
      "        [ 0.0012]], device='cuda:0')\n"
     ]
    }
   ],
   "source": [
    "with torch.no_grad():\n",
    "    outputs = model(test_dataset.tensors[0].cuda())\n",
    "    print(outputs)"
   ]
  },
  {
   "cell_type": "code",
   "execution_count": 92,
   "metadata": {
    "executionInfo": {
     "elapsed": 122,
     "status": "ok",
     "timestamp": 1729092753043,
     "user": {
      "displayName": "Farid Hashemian",
      "userId": "07696851809876459273"
     },
     "user_tz": 300
    },
    "id": "wJv--_N2S9_k"
   },
   "outputs": [],
   "source": [
    "preds = outputs.detach().cpu().numpy().reshape(-1,1)\n",
    "targets = test_dataset.tensors[1].detach().cpu().numpy().reshape(-1,1)"
   ]
  },
  {
   "cell_type": "code",
   "execution_count": 93,
   "metadata": {
    "colab": {
     "base_uri": "https://localhost:8080/"
    },
    "executionInfo": {
     "elapsed": 126,
     "status": "ok",
     "timestamp": 1729092753692,
     "user": {
      "displayName": "Farid Hashemian",
      "userId": "07696851809876459273"
     },
     "user_tz": 300
    },
    "id": "wcgAJO-ZS99W",
    "outputId": "79457c98-65d3-484b-f484-212b3ea2bd8f"
   },
   "outputs": [
    {
     "name": "stdout",
     "output_type": "stream",
     "text": [
      "MSE: 1.3900 and R2: -0.0838\n"
     ]
    }
   ],
   "source": [
    "print(f'MSE: {mean_squared_error(targets, preds):.4f} and R2: {r2_score(targets, preds):.4f}')"
   ]
  },
  {
   "cell_type": "code",
   "execution_count": 94,
   "metadata": {
    "executionInfo": {
     "elapsed": 128,
     "status": "ok",
     "timestamp": 1729092759566,
     "user": {
      "displayName": "Farid Hashemian",
      "userId": "07696851809876459273"
     },
     "user_tz": 300
    },
    "id": "Qm49OgC91pbh"
   },
   "outputs": [],
   "source": [
    "torch.save(model, 'mlp_fill_na_knn_model.pth')"
   ]
  },
  {
   "cell_type": "code",
   "execution_count": null,
   "metadata": {
    "id": "TF2NRxV01tzf"
   },
   "outputs": [],
   "source": []
  }
 ],
 "metadata": {
  "accelerator": "GPU",
  "colab": {
   "authorship_tag": "ABX9TyM8UwCNtnvNr2AA9lR+X4bv",
   "collapsed_sections": [
    "YMR94uajajEA",
    "nSqUDTSvOB7g",
    "c-dC_2QYaVoU",
    "mbvNQp4Mab9P",
    "_gpuebqCN_a5",
    "YTfRbLp7cS2f",
    "gMkGNVoEcYIw"
   ],
   "gpuType": "A100",
   "machine_shape": "hm",
   "mount_file_id": "1M8rgL1DLdj9OmxFyY14yJ2-12FGCdCi-",
   "provenance": [
    {
     "file_id": "1r0foMOniRGMYcrcUNztkbGhGL_aTq505",
     "timestamp": 1721248989196
    }
   ]
  },
  "kernelspec": {
   "display_name": "farid",
   "language": "python",
   "name": "python3"
  },
  "language_info": {
   "codemirror_mode": {
    "name": "ipython",
    "version": 3
   },
   "file_extension": ".py",
   "mimetype": "text/x-python",
   "name": "python",
   "nbconvert_exporter": "python",
   "pygments_lexer": "ipython3",
   "version": "3.10.16"
  }
 },
 "nbformat": 4,
 "nbformat_minor": 0
}
